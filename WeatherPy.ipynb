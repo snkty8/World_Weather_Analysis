{
 "cells": [
  {
   "cell_type": "code",
   "execution_count": 103,
   "metadata": {},
   "outputs": [],
   "source": [
    "# Import the dependencies.\n",
    "import pandas as pd\n",
    "import matplotlib.pyplot as plt\n",
    "import numpy as np"
   ]
  },
  {
   "cell_type": "code",
   "execution_count": 104,
   "metadata": {},
   "outputs": [
    {
     "data": {
      "text/plain": [
       "<zip at 0x23c4ec5e888>"
      ]
     },
     "execution_count": 104,
     "metadata": {},
     "output_type": "execute_result"
    }
   ],
   "source": [
    "# Create a set of random latitude and longitude combinations.\n",
    "lats = np.random.uniform(low=-90.000, high=90.000, size=1500)\n",
    "lngs = np.random.uniform(low=-180.000, high=180.000, size=1500)\n",
    "lat_lngs = zip(lats, lngs)\n",
    "lat_lngs"
   ]
  },
  {
   "cell_type": "code",
   "execution_count": 105,
   "metadata": {},
   "outputs": [],
   "source": [
    "# Add the latitudes and longitudes to a list.\n",
    "coordinates = list(lat_lngs)"
   ]
  },
  {
   "cell_type": "code",
   "execution_count": 106,
   "metadata": {},
   "outputs": [],
   "source": [
    "# Use the citipy module to determine city based on latitude and longitude.\n",
    "from citipy import citipy"
   ]
  },
  {
   "cell_type": "code",
   "execution_count": 107,
   "metadata": {},
   "outputs": [
    {
     "data": {
      "text/plain": [
       "613"
      ]
     },
     "execution_count": 107,
     "metadata": {},
     "output_type": "execute_result"
    }
   ],
   "source": [
    "# Create a list for holding the cities.\n",
    "cities = []\n",
    "# Identify the nearest city for each latitude and longitude combination.\n",
    "for coordinate in coordinates:\n",
    "    city = citipy.nearest_city(coordinate[0], coordinate[1]).city_name\n",
    "\n",
    "    # If the city is unique, then we will add it to the cities list.\n",
    "    if city not in cities:\n",
    "        cities.append(city)\n",
    "# Print the city count to confirm sufficient count.\n",
    "len(cities)"
   ]
  },
  {
   "cell_type": "code",
   "execution_count": 108,
   "metadata": {},
   "outputs": [
    {
     "data": {
      "text/plain": [
       "'2.24.0'"
      ]
     },
     "execution_count": 108,
     "metadata": {},
     "output_type": "execute_result"
    }
   ],
   "source": [
    "import requests\n",
    "requests.__version__"
   ]
  },
  {
   "cell_type": "code",
   "execution_count": 109,
   "metadata": {},
   "outputs": [],
   "source": [
    "# Import the requests library.\n",
    "import requests\n",
    "\n",
    "# Import the API key.\n",
    "from config import weather_api_key"
   ]
  },
  {
   "cell_type": "code",
   "execution_count": 110,
   "metadata": {},
   "outputs": [
    {
     "name": "stdout",
     "output_type": "stream",
     "text": [
      "http://api.openweathermap.org/data/2.5/weather?units=Imperial&APPID=8f95288aff6efbb2bc949446d3faefe9\n"
     ]
    }
   ],
   "source": [
    "# Starting URL for Weather Map API Call.\n",
    "url = \"http://api.openweathermap.org/data/2.5/weather?units=Imperial&APPID=\" + weather_api_key\n",
    "print(url)"
   ]
  },
  {
   "cell_type": "code",
   "execution_count": 111,
   "metadata": {},
   "outputs": [
    {
     "name": "stdout",
     "output_type": "stream",
     "text": [
      "http://api.openweathermap.org/data/2.5/weather?units=Imperial&APPID=8f95288aff6efbb2bc949446d3faefe9&q=Boston\n"
     ]
    }
   ],
   "source": [
    "# Create an endpoint URL for a city.\n",
    "city_url = url + \"&q=\" + \"Boston\"\n",
    "print(city_url)"
   ]
  },
  {
   "cell_type": "code",
   "execution_count": 112,
   "metadata": {},
   "outputs": [
    {
     "data": {
      "text/plain": [
       "<Response [429]>"
      ]
     },
     "execution_count": 112,
     "metadata": {},
     "output_type": "execute_result"
    }
   ],
   "source": [
    "# Make a 'Get' request for the city weather.\n",
    "city_weather = requests.get(city_url)\n",
    "city_weather"
   ]
  },
  {
   "cell_type": "code",
   "execution_count": 113,
   "metadata": {},
   "outputs": [
    {
     "data": {
      "text/plain": [
       "<Response [429]>"
      ]
     },
     "execution_count": 113,
     "metadata": {},
     "output_type": "execute_result"
    }
   ],
   "source": [
    "# Create an endpoint URL for a city.\n",
    "city_url = url + \"&q=\" + \"Bston\"\n",
    "city_weather = requests.get(city_url)\n",
    "city_weather"
   ]
  },
  {
   "cell_type": "code",
   "execution_count": 114,
   "metadata": {},
   "outputs": [
    {
     "data": {
      "text/plain": [
       "<Response [429]>"
      ]
     },
     "execution_count": 114,
     "metadata": {},
     "output_type": "execute_result"
    }
   ],
   "source": [
    "# Create an endpoint URL for a city.\n",
    "city_url = url + \"&q=\" + \"Boston\"\n",
    "city_weather = requests.get(city_url)\n",
    "city_weather"
   ]
  },
  {
   "cell_type": "code",
   "execution_count": 115,
   "metadata": {},
   "outputs": [
    {
     "data": {
      "text/plain": [
       "'{\"cod\":429, \"message\": \"Your account is temporary blocked due to exceeding of requests limitation of your subscription type. Please choose the proper subscription http://openweathermap.org/price\"}'"
      ]
     },
     "execution_count": 115,
     "metadata": {},
     "output_type": "execute_result"
    }
   ],
   "source": [
    "# Get the text of the 'Get' request.\n",
    "city_weather.text"
   ]
  },
  {
   "cell_type": "code",
   "execution_count": 116,
   "metadata": {},
   "outputs": [
    {
     "data": {
      "text/plain": [
       "{'cod': 429,\n",
       " 'message': 'Your account is temporary blocked due to exceeding of requests limitation of your subscription type. Please choose the proper subscription http://openweathermap.org/price'}"
      ]
     },
     "execution_count": 116,
     "metadata": {},
     "output_type": "execute_result"
    }
   ],
   "source": [
    "# Get the JSON text of the 'Get' request.\n",
    "city_weather.json()"
   ]
  },
  {
   "cell_type": "code",
   "execution_count": 117,
   "metadata": {},
   "outputs": [
    {
     "name": "stdout",
     "output_type": "stream",
     "text": [
      "City weather not found.\n"
     ]
    }
   ],
   "source": [
    "# Create an endpoint URL for a city.\n",
    "city_url = url + \"&q=\" + \"Boston\"\n",
    "city_weather = requests.get(city_url)\n",
    "if city_weather.status_code == 200:\n",
    "    print(f\"City Weather found.\")\n",
    "else:\n",
    "    print(f\"City weather not found.\")"
   ]
  },
  {
   "cell_type": "code",
   "execution_count": 118,
   "metadata": {},
   "outputs": [
    {
     "name": "stdout",
     "output_type": "stream",
     "text": [
      "City Weather found.\n"
     ]
    }
   ],
   "source": [
    "# Create an endpoint URL for a city.\n",
    "city_url = url + \"&q=\" + \"Bston\"\n",
    "city_weather = requests.get(city_url)\n",
    "if city_weather.json():\n",
    "    print(f\"City Weather found.\")\n",
    "else:\n",
    "    print(f\"City weather not found.\")"
   ]
  },
  {
   "cell_type": "code",
   "execution_count": 119,
   "metadata": {},
   "outputs": [
    {
     "name": "stdout",
     "output_type": "stream",
     "text": [
      "http://api.openweathermap.org/data/2.5/weather?units=Imperial&APPID=8f95288aff6efbb2bc949446d3faefe9&q=Bston\n"
     ]
    }
   ],
   "source": [
    "print(city_url)"
   ]
  },
  {
   "cell_type": "code",
   "execution_count": 120,
   "metadata": {},
   "outputs": [
    {
     "data": {
      "text/plain": [
       "{'cod': 429,\n",
       " 'message': 'Your account is temporary blocked due to exceeding of requests limitation of your subscription type. Please choose the proper subscription http://openweathermap.org/price'}"
      ]
     },
     "execution_count": 120,
     "metadata": {},
     "output_type": "execute_result"
    }
   ],
   "source": [
    "# Create an endpoint URL for a city.\n",
    "city_url = url + \"&q=\" + \"Boston\"\n",
    "city_weather = requests.get(city_url)\n",
    "city_weather.json()"
   ]
  },
  {
   "cell_type": "code",
   "execution_count": 121,
   "metadata": {},
   "outputs": [],
   "source": [
    "# Get the JSON data.\n",
    "boston_data = city_weather.json()"
   ]
  },
  {
   "cell_type": "code",
   "execution_count": 122,
   "metadata": {},
   "outputs": [
    {
     "ename": "KeyError",
     "evalue": "'sys'",
     "output_type": "error",
     "traceback": [
      "\u001b[1;31m---------------------------------------------------------------------------\u001b[0m",
      "\u001b[1;31mKeyError\u001b[0m                                  Traceback (most recent call last)",
      "\u001b[1;32m<ipython-input-122-c78f8901ed1b>\u001b[0m in \u001b[0;36m<module>\u001b[1;34m\u001b[0m\n\u001b[1;32m----> 1\u001b[1;33m \u001b[0mboston_data\u001b[0m\u001b[1;33m[\u001b[0m\u001b[1;34m\"sys\"\u001b[0m\u001b[1;33m]\u001b[0m\u001b[1;33m[\u001b[0m\u001b[1;34m\"country\"\u001b[0m\u001b[1;33m]\u001b[0m\u001b[1;33m\u001b[0m\u001b[1;33m\u001b[0m\u001b[0m\n\u001b[0m",
      "\u001b[1;31mKeyError\u001b[0m: 'sys'"
     ]
    }
   ],
   "source": [
    "boston_data[\"sys\"][\"country\"]"
   ]
  },
  {
   "cell_type": "code",
   "execution_count": 123,
   "metadata": {},
   "outputs": [
    {
     "ename": "KeyError",
     "evalue": "'dt'",
     "output_type": "error",
     "traceback": [
      "\u001b[1;31m---------------------------------------------------------------------------\u001b[0m",
      "\u001b[1;31mKeyError\u001b[0m                                  Traceback (most recent call last)",
      "\u001b[1;32m<ipython-input-123-19eee501a061>\u001b[0m in \u001b[0;36m<module>\u001b[1;34m\u001b[0m\n\u001b[1;32m----> 1\u001b[1;33m \u001b[0mboston_data\u001b[0m\u001b[1;33m[\u001b[0m\u001b[1;34m\"dt\"\u001b[0m\u001b[1;33m]\u001b[0m\u001b[1;33m\u001b[0m\u001b[1;33m\u001b[0m\u001b[0m\n\u001b[0m",
      "\u001b[1;31mKeyError\u001b[0m: 'dt'"
     ]
    }
   ],
   "source": [
    "boston_data[\"dt\"]"
   ]
  },
  {
   "cell_type": "code",
   "execution_count": 22,
   "metadata": {},
   "outputs": [
    {
     "name": "stdout",
     "output_type": "stream",
     "text": [
      "42.3584 -71.0598 48.99 61 1 10.36\n"
     ]
    }
   ],
   "source": [
    "lat = boston_data[\"coord\"][\"lat\"]\n",
    "lng = boston_data[\"coord\"][\"lon\"]\n",
    "max_temp = boston_data[\"main\"][\"temp_max\"]\n",
    "humidity = boston_data[\"main\"][\"humidity\"]\n",
    "clouds = boston_data[\"clouds\"][\"all\"]\n",
    "wind = boston_data[\"wind\"][\"speed\"]\n",
    "print(lat, lng, max_temp, humidity, clouds, wind)"
   ]
  },
  {
   "cell_type": "code",
   "execution_count": 23,
   "metadata": {},
   "outputs": [
    {
     "data": {
      "text/plain": [
       "'2021-03-23 01:43:19'"
      ]
     },
     "execution_count": 23,
     "metadata": {},
     "output_type": "execute_result"
    }
   ],
   "source": [
    "# Import the datetime module from the datetime library.\n",
    "from datetime import datetime\n",
    "# Get the date from the JSON file.\n",
    "date = boston_data[\"dt\"]\n",
    "# Convert the UTC date to a date format with year, month, day, hours, minutes, and seconds.\n",
    "datetime.utcfromtimestamp(date)\n",
    "datetime.utcfromtimestamp(date).strftime('%Y-%m-%d %H:%M:%S')"
   ]
  },
  {
   "cell_type": "code",
   "execution_count": 24,
   "metadata": {},
   "outputs": [],
   "source": [
    "# Import the datetime module from the datetime library.\n",
    "from datetime import datetime"
   ]
  },
  {
   "cell_type": "code",
   "execution_count": 25,
   "metadata": {},
   "outputs": [
    {
     "name": "stdout",
     "output_type": "stream",
     "text": [
      "Beginning Data Retrieval     \n",
      "-----------------------------\n",
      "Processing Record 1 of Set 13 | ushuaia\n",
      "Processing Record 2 of Set 13 | kloulklubed\n",
      "Processing Record 3 of Set 13 | katsuura\n",
      "Processing Record 4 of Set 13 | ende\n",
      "Processing Record 5 of Set 13 | preobrazheniye\n",
      "Processing Record 6 of Set 13 | padang\n",
      "Processing Record 7 of Set 13 | cayenne\n",
      "Processing Record 8 of Set 13 | high prairie\n",
      "Processing Record 9 of Set 13 | arraial do cabo\n",
      "Processing Record 10 of Set 13 | samusu\n",
      "City not found. Skipping...\n",
      "Processing Record 11 of Set 13 | busselton\n",
      "Processing Record 12 of Set 13 | mataura\n",
      "Processing Record 13 of Set 13 | sobolevo\n",
      "Processing Record 14 of Set 13 | podor\n",
      "Processing Record 15 of Set 13 | thompson\n",
      "Processing Record 16 of Set 13 | bethel\n",
      "Processing Record 17 of Set 13 | lebu\n",
      "Processing Record 18 of Set 13 | hermanus\n",
      "Processing Record 19 of Set 13 | kavieng\n",
      "Processing Record 20 of Set 13 | senador jose porfirio\n",
      "Processing Record 21 of Set 13 | albany\n",
      "Processing Record 22 of Set 13 | vaini\n",
      "Processing Record 23 of Set 13 | castro\n",
      "Processing Record 24 of Set 13 | jashpurnagar\n",
      "Processing Record 25 of Set 13 | mys shmidta\n",
      "City not found. Skipping...\n",
      "Processing Record 26 of Set 13 | rikitea\n",
      "Processing Record 27 of Set 13 | provideniya\n",
      "Processing Record 28 of Set 13 | turayf\n",
      "Processing Record 29 of Set 13 | omboue\n",
      "Processing Record 30 of Set 13 | glenwood springs\n",
      "Processing Record 31 of Set 13 | saravena\n",
      "Processing Record 32 of Set 13 | kuche\n",
      "City not found. Skipping...\n",
      "Processing Record 33 of Set 13 | santa isabel\n",
      "Processing Record 34 of Set 13 | carnarvon\n",
      "Processing Record 35 of Set 13 | bluff\n",
      "Processing Record 36 of Set 13 | taolanaro\n",
      "City not found. Skipping...\n",
      "Processing Record 37 of Set 13 | port alfred\n",
      "Processing Record 38 of Set 13 | khatanga\n",
      "Processing Record 39 of Set 13 | nikolskoye\n",
      "Processing Record 40 of Set 13 | leh\n",
      "Processing Record 41 of Set 13 | kendari\n",
      "Processing Record 42 of Set 13 | nome\n",
      "Processing Record 43 of Set 13 | bambous virieux\n",
      "Processing Record 44 of Set 13 | punta arenas\n",
      "Processing Record 45 of Set 13 | ketchikan\n",
      "Processing Record 46 of Set 13 | hornepayne\n",
      "Processing Record 47 of Set 13 | sibu\n",
      "Processing Record 48 of Set 13 | bantry\n",
      "Processing Record 49 of Set 13 | vestmannaeyjar\n",
      "Processing Record 50 of Set 13 | vila franca do campo\n",
      "Processing Record 1 of Set 14 | pisco\n",
      "Processing Record 2 of Set 14 | taree\n",
      "Processing Record 3 of Set 14 | burnie\n",
      "Processing Record 4 of Set 14 | salalah\n",
      "Processing Record 5 of Set 14 | barentsburg\n",
      "City not found. Skipping...\n",
      "Processing Record 6 of Set 14 | saint george\n",
      "Processing Record 7 of Set 14 | tsihombe\n",
      "City not found. Skipping...\n",
      "Processing Record 8 of Set 14 | taoudenni\n",
      "Processing Record 9 of Set 14 | chokurdakh\n",
      "Processing Record 10 of Set 14 | sao filipe\n",
      "Processing Record 11 of Set 14 | avera\n",
      "Processing Record 12 of Set 14 | surt\n",
      "Processing Record 13 of Set 14 | kunzelsau\n",
      "Processing Record 14 of Set 14 | poli\n",
      "Processing Record 15 of Set 14 | ambilobe\n",
      "Processing Record 16 of Set 14 | kavaratti\n",
      "Processing Record 17 of Set 14 | tecoanapa\n",
      "Processing Record 18 of Set 14 | samarai\n",
      "Processing Record 19 of Set 14 | dalvik\n",
      "Processing Record 20 of Set 14 | puerto ayora\n",
      "Processing Record 21 of Set 14 | nanortalik\n",
      "Processing Record 22 of Set 14 | santa maria\n",
      "Processing Record 23 of Set 14 | asheboro\n",
      "Processing Record 24 of Set 14 | antofagasta\n",
      "Processing Record 25 of Set 14 | yellowknife\n",
      "Processing Record 26 of Set 14 | new norfolk\n",
      "Processing Record 27 of Set 14 | whitehorse\n",
      "Processing Record 28 of Set 14 | lana\n",
      "Processing Record 29 of Set 14 | marabba\n",
      "Processing Record 30 of Set 14 | show low\n",
      "Processing Record 31 of Set 14 | comodoro rivadavia\n",
      "Processing Record 32 of Set 14 | jamestown\n",
      "Processing Record 33 of Set 14 | sinnamary\n",
      "Processing Record 34 of Set 14 | muros\n",
      "Processing Record 35 of Set 14 | georgetown\n",
      "Processing Record 36 of Set 14 | dunedin\n",
      "Processing Record 37 of Set 14 | hobart\n",
      "Processing Record 38 of Set 14 | souillac\n",
      "Processing Record 39 of Set 14 | barrow\n",
      "Processing Record 40 of Set 14 | el alto\n",
      "Processing Record 41 of Set 14 | pontianak\n",
      "Processing Record 42 of Set 14 | jamame\n",
      "Processing Record 43 of Set 14 | beringovskiy\n",
      "Processing Record 44 of Set 14 | attawapiskat\n",
      "City not found. Skipping...\n",
      "Processing Record 45 of Set 14 | kapaa\n",
      "Processing Record 46 of Set 14 | geraldton\n",
      "Processing Record 47 of Set 14 | whitefish\n",
      "Processing Record 48 of Set 14 | alyangula\n",
      "Processing Record 49 of Set 14 | puerto del rosario\n",
      "Processing Record 50 of Set 14 | klaksvik\n",
      "Processing Record 1 of Set 15 | ahipara\n",
      "Processing Record 2 of Set 15 | labytnangi\n",
      "Processing Record 3 of Set 15 | belushya guba\n",
      "City not found. Skipping...\n",
      "Processing Record 4 of Set 15 | puerto escondido\n",
      "Processing Record 5 of Set 15 | coffs harbour\n",
      "Processing Record 6 of Set 15 | chuy\n",
      "Processing Record 7 of Set 15 | galiwinku\n",
      "City not found. Skipping...\n",
      "Processing Record 8 of Set 15 | san policarpo\n",
      "Processing Record 9 of Set 15 | illoqqortoormiut\n",
      "City not found. Skipping...\n",
      "Processing Record 10 of Set 15 | port blair\n",
      "Processing Record 11 of Set 15 | pevek\n",
      "Processing Record 12 of Set 15 | port elizabeth\n",
      "Processing Record 13 of Set 15 | luderitz\n",
      "Processing Record 14 of Set 15 | tasiilaq\n",
      "Processing Record 15 of Set 15 | aviles\n",
      "Processing Record 16 of Set 15 | jining\n",
      "Processing Record 17 of Set 15 | gueret\n",
      "Processing Record 18 of Set 15 | nizhneyansk\n",
      "City not found. Skipping...\n",
      "Processing Record 19 of Set 15 | sayansk\n",
      "Processing Record 20 of Set 15 | vostok\n",
      "Processing Record 21 of Set 15 | burgersdorp\n",
      "Processing Record 22 of Set 15 | college\n",
      "Processing Record 23 of Set 15 | hilo\n",
      "Processing Record 24 of Set 15 | mar del plata\n",
      "Processing Record 25 of Set 15 | alihe\n",
      "Processing Record 26 of Set 15 | berlevag\n",
      "Processing Record 27 of Set 15 | kahului\n",
      "Processing Record 28 of Set 15 | bolungarvik\n",
      "City not found. Skipping...\n",
      "Processing Record 29 of Set 15 | chumikan\n",
      "Processing Record 30 of Set 15 | tuktoyaktuk\n",
      "Processing Record 31 of Set 15 | aswan\n",
      "Processing Record 32 of Set 15 | saint-philippe\n",
      "Processing Record 33 of Set 15 | buchanan\n",
      "Processing Record 34 of Set 15 | ancud\n",
      "Processing Record 35 of Set 15 | belfast\n",
      "Processing Record 36 of Set 15 | avarua\n",
      "Processing Record 37 of Set 15 | pacific grove\n",
      "Processing Record 38 of Set 15 | puerto quijarro\n",
      "Processing Record 39 of Set 15 | butaritari\n",
      "Processing Record 40 of Set 15 | mglin\n",
      "Processing Record 41 of Set 15 | pangody\n",
      "Processing Record 42 of Set 15 | solikamsk\n",
      "Processing Record 43 of Set 15 | kaitong\n",
      "Processing Record 44 of Set 15 | meulaboh\n",
      "Processing Record 45 of Set 15 | kollumerland\n",
      "City not found. Skipping...\n",
      "Processing Record 46 of Set 15 | lima\n",
      "Processing Record 47 of Set 15 | port hardy\n",
      "Processing Record 48 of Set 15 | portland\n",
      "Processing Record 49 of Set 15 | adrar\n",
      "Processing Record 50 of Set 15 | san isidro\n",
      "Processing Record 1 of Set 16 | laguna\n",
      "Processing Record 2 of Set 16 | sao jose da coroa grande\n",
      "Processing Record 3 of Set 16 | palmer\n",
      "Processing Record 4 of Set 16 | soyo\n",
      "Processing Record 5 of Set 16 | labuhan\n",
      "Processing Record 6 of Set 16 | atuona\n",
      "Processing Record 7 of Set 16 | upernavik\n",
      "Processing Record 8 of Set 16 | chimore\n",
      "Processing Record 9 of Set 16 | salaga\n",
      "Processing Record 10 of Set 16 | roma\n",
      "Processing Record 11 of Set 16 | hualmay\n",
      "Processing Record 12 of Set 16 | pasni\n",
      "Processing Record 13 of Set 16 | atar\n",
      "Processing Record 14 of Set 16 | sleaford\n",
      "Processing Record 15 of Set 16 | san quintin\n",
      "Processing Record 16 of Set 16 | kruisfontein\n",
      "Processing Record 17 of Set 16 | mahebourg\n",
      "Processing Record 18 of Set 16 | qui nhon\n",
      "Processing Record 19 of Set 16 | ponta do sol\n",
      "Processing Record 20 of Set 16 | lorengau\n",
      "Processing Record 21 of Set 16 | ribeira grande\n",
      "Processing Record 22 of Set 16 | ilulissat\n",
      "Processing Record 23 of Set 16 | paka\n",
      "Processing Record 24 of Set 16 | subtanjalla\n",
      "Processing Record 25 of Set 16 | flinders\n",
      "Processing Record 26 of Set 16 | dikson\n",
      "Processing Record 27 of Set 16 | tabuk\n",
      "Processing Record 28 of Set 16 | qaanaaq\n",
      "Processing Record 29 of Set 16 | vao\n",
      "Processing Record 30 of Set 16 | muzhi\n",
      "Processing Record 31 of Set 16 | aksarka\n",
      "Processing Record 32 of Set 16 | bengkulu\n",
      "Processing Record 33 of Set 16 | guerrero negro\n",
      "Processing Record 34 of Set 16 | pryazha\n"
     ]
    },
    {
     "name": "stdout",
     "output_type": "stream",
     "text": [
      "Processing Record 35 of Set 16 | charlestown\n",
      "Processing Record 36 of Set 16 | walvis bay\n",
      "Processing Record 37 of Set 16 | pangnirtung\n",
      "Processing Record 38 of Set 16 | biak\n",
      "Processing Record 39 of Set 16 | cape town\n",
      "Processing Record 40 of Set 16 | miri\n",
      "Processing Record 41 of Set 16 | kodiak\n",
      "Processing Record 42 of Set 16 | saint-francois\n",
      "Processing Record 43 of Set 16 | iquique\n",
      "Processing Record 44 of Set 16 | airai\n",
      "Processing Record 45 of Set 16 | bredasdorp\n",
      "Processing Record 46 of Set 16 | haines junction\n",
      "Processing Record 47 of Set 16 | youghal\n",
      "Processing Record 48 of Set 16 | qurbus\n",
      "Processing Record 49 of Set 16 | namibe\n",
      "Processing Record 50 of Set 16 | liverpool\n",
      "Processing Record 1 of Set 17 | ivanovka\n",
      "Processing Record 2 of Set 17 | cockburn harbour\n",
      "City not found. Skipping...\n",
      "Processing Record 3 of Set 17 | kohlu\n",
      "Processing Record 4 of Set 17 | hammerfest\n",
      "Processing Record 5 of Set 17 | matagami\n",
      "Processing Record 6 of Set 17 | amderma\n",
      "City not found. Skipping...\n",
      "Processing Record 7 of Set 17 | victoria\n",
      "Processing Record 8 of Set 17 | bundaberg\n",
      "Processing Record 9 of Set 17 | dingle\n",
      "Processing Record 10 of Set 17 | vizinga\n",
      "Processing Record 11 of Set 17 | camacha\n",
      "Processing Record 12 of Set 17 | whitianga\n",
      "Processing Record 13 of Set 17 | vaitupu\n",
      "City not found. Skipping...\n",
      "Processing Record 14 of Set 17 | coihaique\n",
      "Processing Record 15 of Set 17 | pacifica\n",
      "Processing Record 16 of Set 17 | moreira sales\n",
      "Processing Record 17 of Set 17 | biltine\n",
      "Processing Record 18 of Set 17 | mankachar\n",
      "Processing Record 19 of Set 17 | baykit\n",
      "Processing Record 20 of Set 17 | gat\n",
      "Processing Record 21 of Set 17 | san jose\n",
      "Processing Record 22 of Set 17 | banda aceh\n",
      "Processing Record 23 of Set 17 | sambava\n",
      "Processing Record 24 of Set 17 | nishihara\n",
      "Processing Record 25 of Set 17 | xinyang\n",
      "Processing Record 26 of Set 17 | bar harbor\n",
      "Processing Record 27 of Set 17 | auxerre\n",
      "Processing Record 28 of Set 17 | lugo\n",
      "Processing Record 29 of Set 17 | kamenskoye\n",
      "City not found. Skipping...\n",
      "Processing Record 30 of Set 17 | gravdal\n",
      "Processing Record 31 of Set 17 | calbuco\n",
      "Processing Record 32 of Set 17 | esperance\n",
      "Processing Record 33 of Set 17 | hithadhoo\n",
      "Processing Record 34 of Set 17 | zhaotong\n",
      "Processing Record 35 of Set 17 | coahuayana\n",
      "Processing Record 36 of Set 17 | ondorhaan\n",
      "City not found. Skipping...\n",
      "Processing Record 37 of Set 17 | port keats\n",
      "Processing Record 38 of Set 17 | texarkana\n",
      "Processing Record 39 of Set 17 | dubbo\n",
      "Processing Record 40 of Set 17 | dzilam gonzalez\n",
      "Processing Record 41 of Set 17 | lephepe\n",
      "City not found. Skipping...\n",
      "Processing Record 42 of Set 17 | beyneu\n",
      "Processing Record 43 of Set 17 | bargal\n",
      "City not found. Skipping...\n",
      "Processing Record 44 of Set 17 | rapid valley\n",
      "Processing Record 45 of Set 17 | nampula\n",
      "Processing Record 46 of Set 17 | ati\n",
      "Processing Record 47 of Set 17 | bestobe\n",
      "Processing Record 48 of Set 17 | talnakh\n",
      "Processing Record 49 of Set 17 | constitucion\n",
      "Processing Record 50 of Set 17 | bokspits\n",
      "City not found. Skipping...\n",
      "Processing Record 1 of Set 18 | kaitangata\n",
      "Processing Record 2 of Set 18 | campina grande\n",
      "Processing Record 3 of Set 18 | san patricio\n",
      "Processing Record 4 of Set 18 | tigil\n",
      "Processing Record 5 of Set 18 | manggar\n",
      "Processing Record 6 of Set 18 | mombasa\n",
      "Processing Record 7 of Set 18 | quatre cocos\n",
      "Processing Record 8 of Set 18 | saskylakh\n",
      "Processing Record 9 of Set 18 | scottsburgh\n",
      "City not found. Skipping...\n",
      "Processing Record 10 of Set 18 | kholmogory\n",
      "Processing Record 11 of Set 18 | waddan\n",
      "Processing Record 12 of Set 18 | norden\n",
      "Processing Record 13 of Set 18 | marcona\n",
      "City not found. Skipping...\n",
      "Processing Record 14 of Set 18 | yulara\n",
      "Processing Record 15 of Set 18 | cherskiy\n",
      "Processing Record 16 of Set 18 | northam\n",
      "Processing Record 17 of Set 18 | praia da vitoria\n",
      "Processing Record 18 of Set 18 | maba\n",
      "Processing Record 19 of Set 18 | azuaga\n",
      "Processing Record 20 of Set 18 | mrirt\n",
      "City not found. Skipping...\n",
      "Processing Record 21 of Set 18 | staryy nadym\n",
      "Processing Record 22 of Set 18 | cidreira\n",
      "Processing Record 23 of Set 18 | longyearbyen\n",
      "Processing Record 24 of Set 18 | chicama\n",
      "Processing Record 25 of Set 18 | kharan\n",
      "Processing Record 26 of Set 18 | kabin buri\n",
      "Processing Record 27 of Set 18 | vila\n",
      "Processing Record 28 of Set 18 | ahuimanu\n",
      "Processing Record 29 of Set 18 | aklavik\n",
      "Processing Record 30 of Set 18 | guarapari\n",
      "Processing Record 31 of Set 18 | rostaq\n",
      "City not found. Skipping...\n",
      "Processing Record 32 of Set 18 | gilgit\n",
      "Processing Record 33 of Set 18 | scarborough\n",
      "Processing Record 34 of Set 18 | celestun\n",
      "Processing Record 35 of Set 18 | palu\n",
      "Processing Record 36 of Set 18 | yoichi\n",
      "Processing Record 37 of Set 18 | half moon bay\n",
      "Processing Record 38 of Set 18 | lincoln\n",
      "Processing Record 39 of Set 18 | diamantino\n",
      "Processing Record 40 of Set 18 | kumo\n",
      "Processing Record 41 of Set 18 | kano\n",
      "Processing Record 42 of Set 18 | old road\n",
      "City not found. Skipping...\n",
      "Processing Record 43 of Set 18 | griffith\n",
      "Processing Record 44 of Set 18 | lagoa\n",
      "Processing Record 45 of Set 18 | jumla\n",
      "Processing Record 46 of Set 18 | ambodifototra\n",
      "City not found. Skipping...\n",
      "Processing Record 47 of Set 18 | ambon\n",
      "Processing Record 48 of Set 18 | shalyhyne\n",
      "Processing Record 49 of Set 18 | rochegda\n",
      "Processing Record 50 of Set 18 | wenling\n",
      "Processing Record 1 of Set 19 | mount isa\n",
      "Processing Record 2 of Set 19 | rolante\n",
      "Processing Record 3 of Set 19 | los llanos de aridane\n",
      "Processing Record 4 of Set 19 | tiksi\n",
      "Processing Record 5 of Set 19 | peleduy\n",
      "Processing Record 6 of Set 19 | los andes\n",
      "Processing Record 7 of Set 19 | vanimo\n",
      "Processing Record 8 of Set 19 | loreto\n",
      "Processing Record 9 of Set 19 | manaure\n",
      "Processing Record 10 of Set 19 | sao gabriel da cachoeira\n",
      "Processing Record 11 of Set 19 | hofn\n",
      "Processing Record 12 of Set 19 | corvallis\n",
      "Processing Record 13 of Set 19 | inuvik\n",
      "Processing Record 14 of Set 19 | vila velha\n",
      "Processing Record 15 of Set 19 | cap malheureux\n",
      "Processing Record 16 of Set 19 | bratsk\n",
      "Processing Record 17 of Set 19 | gornyy\n",
      "Processing Record 18 of Set 19 | iskateley\n",
      "Processing Record 19 of Set 19 | dicabisagan\n",
      "Processing Record 20 of Set 19 | chavakkad\n",
      "Processing Record 21 of Set 19 | dawlatabad\n",
      "Processing Record 22 of Set 19 | pithoragarh\n",
      "Processing Record 23 of Set 19 | faanui\n",
      "Processing Record 24 of Set 19 | fortuna\n",
      "Processing Record 25 of Set 19 | weiser\n",
      "Processing Record 26 of Set 19 | kurgan\n",
      "Processing Record 27 of Set 19 | iqaluit\n",
      "Processing Record 28 of Set 19 | sheffield\n",
      "Processing Record 29 of Set 19 | aanekoski\n",
      "Processing Record 30 of Set 19 | sola\n",
      "Processing Record 31 of Set 19 | channel-port aux basques\n",
      "Processing Record 32 of Set 19 | boda\n",
      "Processing Record 33 of Set 19 | rajshahi\n",
      "Processing Record 34 of Set 19 | huilong\n",
      "Processing Record 35 of Set 19 | maningrida\n",
      "Processing Record 36 of Set 19 | la pila\n",
      "Processing Record 37 of Set 19 | krasnorechenskiy\n",
      "Processing Record 38 of Set 19 | tangshan\n",
      "Processing Record 39 of Set 19 | maroantsetra\n",
      "Processing Record 40 of Set 19 | tukrah\n",
      "Processing Record 41 of Set 19 | iwaki\n",
      "Processing Record 42 of Set 19 | camacari\n",
      "Processing Record 43 of Set 19 | east london\n",
      "Processing Record 44 of Set 19 | banamba\n",
      "Processing Record 45 of Set 19 | kandi\n",
      "Processing Record 46 of Set 19 | makat\n",
      "Processing Record 47 of Set 19 | fairlie\n",
      "Processing Record 48 of Set 19 | cabo san lucas\n",
      "Processing Record 49 of Set 19 | mitu\n",
      "Processing Record 50 of Set 19 | can\n",
      "Processing Record 1 of Set 20 | narsaq\n",
      "Processing Record 2 of Set 20 | gawler\n",
      "Processing Record 3 of Set 20 | auckland\n",
      "Processing Record 4 of Set 20 | westport\n",
      "Processing Record 5 of Set 20 | the pas\n",
      "Processing Record 6 of Set 20 | iracoubo\n",
      "Processing Record 7 of Set 20 | risch\n",
      "Processing Record 8 of Set 20 | atasu\n",
      "Processing Record 9 of Set 20 | egvekinot\n",
      "Processing Record 10 of Set 20 | taboga\n",
      "Processing Record 11 of Set 20 | trofors\n",
      "Processing Record 12 of Set 20 | tadine\n",
      "Processing Record 13 of Set 20 | bogale\n",
      "Processing Record 14 of Set 20 | huazolotitlan\n",
      "City not found. Skipping...\n",
      "Processing Record 15 of Set 20 | kalmunai\n",
      "Processing Record 16 of Set 20 | bunia\n",
      "Processing Record 17 of Set 20 | shepsi\n",
      "Processing Record 18 of Set 20 | sitka\n",
      "Processing Record 19 of Set 20 | jurado\n",
      "Processing Record 20 of Set 20 | juba\n"
     ]
    },
    {
     "name": "stdout",
     "output_type": "stream",
     "text": [
      "Processing Record 21 of Set 20 | wanning\n",
      "Processing Record 22 of Set 20 | dillon\n",
      "Processing Record 23 of Set 20 | chitipa\n",
      "Processing Record 24 of Set 20 | faya\n",
      "Processing Record 25 of Set 20 | nouakchott\n",
      "Processing Record 26 of Set 20 | san miguel\n",
      "Processing Record 27 of Set 20 | hobyo\n",
      "Processing Record 28 of Set 20 | ardakan\n",
      "Processing Record 29 of Set 20 | semey\n",
      "Processing Record 30 of Set 20 | margate\n",
      "Processing Record 31 of Set 20 | finschhafen\n",
      "Processing Record 32 of Set 20 | galveston\n",
      "Processing Record 33 of Set 20 | ambikapur\n",
      "Processing Record 34 of Set 20 | djenne\n",
      "Processing Record 35 of Set 20 | saleaula\n",
      "City not found. Skipping...\n",
      "Processing Record 36 of Set 20 | port lincoln\n",
      "Processing Record 37 of Set 20 | osinovo\n",
      "Processing Record 38 of Set 20 | shizunai\n",
      "Processing Record 39 of Set 20 | brewster\n",
      "Processing Record 40 of Set 20 | mecca\n",
      "Processing Record 41 of Set 20 | port hedland\n",
      "Processing Record 42 of Set 20 | porosozero\n",
      "Processing Record 43 of Set 20 | kurkent\n",
      "Processing Record 44 of Set 20 | erenhot\n",
      "Processing Record 45 of Set 20 | abonnema\n",
      "Processing Record 46 of Set 20 | jerantut\n",
      "Processing Record 47 of Set 20 | manakara\n",
      "Processing Record 48 of Set 20 | cookeville\n",
      "Processing Record 49 of Set 20 | duz\n",
      "City not found. Skipping...\n",
      "Processing Record 50 of Set 20 | jalu\n",
      "Processing Record 1 of Set 21 | ranong\n",
      "Processing Record 2 of Set 21 | dhidhdhoo\n",
      "Processing Record 3 of Set 21 | awbari\n",
      "Processing Record 4 of Set 21 | leningradskiy\n",
      "Processing Record 5 of Set 21 | altagracia de orituco\n",
      "Processing Record 6 of Set 21 | grand centre\n",
      "City not found. Skipping...\n",
      "Processing Record 7 of Set 21 | panalingaan\n",
      "Processing Record 8 of Set 21 | torrington\n",
      "Processing Record 9 of Set 21 | fallon\n",
      "Processing Record 10 of Set 21 | grindavik\n",
      "Processing Record 11 of Set 21 | otjimbingwe\n",
      "Processing Record 12 of Set 21 | greenville\n",
      "Processing Record 13 of Set 21 | mackay\n",
      "Processing Record 14 of Set 21 | rawannawi\n",
      "City not found. Skipping...\n",
      "Processing Record 15 of Set 21 | belmonte\n",
      "Processing Record 16 of Set 21 | alofi\n",
      "Processing Record 17 of Set 21 | sentyabrskiy\n",
      "City not found. Skipping...\n",
      "Processing Record 18 of Set 21 | karaton\n",
      "Processing Record 19 of Set 21 | road town\n",
      "Processing Record 20 of Set 21 | along\n",
      "Processing Record 21 of Set 21 | tuatapere\n",
      "Processing Record 22 of Set 21 | bambari\n",
      "Processing Record 23 of Set 21 | verkhnyaya inta\n",
      "Processing Record 24 of Set 21 | dauriya\n",
      "Processing Record 25 of Set 21 | traiguen\n",
      "Processing Record 26 of Set 21 | roswell\n",
      "Processing Record 27 of Set 21 | san\n",
      "Processing Record 28 of Set 21 | blind river\n",
      "Processing Record 29 of Set 21 | yeniseysk\n",
      "Processing Record 30 of Set 21 | zhanakorgan\n",
      "Processing Record 31 of Set 21 | flin flon\n",
      "Processing Record 32 of Set 21 | lompoc\n",
      "Processing Record 33 of Set 21 | okhotsk\n",
      "Processing Record 34 of Set 21 | jiddah\n",
      "City not found. Skipping...\n",
      "Processing Record 35 of Set 21 | hunza\n",
      "City not found. Skipping...\n",
      "Processing Record 36 of Set 21 | tubruq\n",
      "City not found. Skipping...\n",
      "Processing Record 37 of Set 21 | warragul\n",
      "Processing Record 38 of Set 21 | mandalgovi\n",
      "Processing Record 39 of Set 21 | juneau\n",
      "Processing Record 40 of Set 21 | torbay\n",
      "Processing Record 41 of Set 21 | beatrice\n",
      "Processing Record 42 of Set 21 | mentok\n",
      "City not found. Skipping...\n",
      "Processing Record 43 of Set 21 | tupik\n",
      "Processing Record 44 of Set 21 | sidney\n",
      "Processing Record 45 of Set 21 | tessalit\n",
      "Processing Record 46 of Set 21 | broome\n",
      "Processing Record 47 of Set 21 | komsomolskiy\n",
      "Processing Record 48 of Set 21 | oudtshoorn\n",
      "Processing Record 49 of Set 21 | kutum\n",
      "Processing Record 50 of Set 21 | lagos\n",
      "Processing Record 1 of Set 22 | ola\n",
      "Processing Record 2 of Set 22 | kirovskiy\n",
      "Processing Record 3 of Set 22 | dawson creek\n",
      "Processing Record 4 of Set 22 | karpathos\n",
      "Processing Record 5 of Set 22 | coihueco\n",
      "Processing Record 6 of Set 22 | deputatskiy\n",
      "Processing Record 7 of Set 22 | honiara\n",
      "Processing Record 8 of Set 22 | calatayud\n",
      "Processing Record 9 of Set 22 | touros\n",
      "Processing Record 10 of Set 22 | timmins\n",
      "Processing Record 11 of Set 22 | caconda\n",
      "Processing Record 12 of Set 22 | am timan\n",
      "Processing Record 13 of Set 22 | houma\n",
      "Processing Record 14 of Set 22 | goderich\n",
      "Processing Record 15 of Set 22 | mirnyy\n",
      "Processing Record 16 of Set 22 | tambul\n",
      "City not found. Skipping...\n",
      "Processing Record 17 of Set 22 | lagoa santa\n",
      "Processing Record 18 of Set 22 | north bend\n",
      "Processing Record 19 of Set 22 | arawa\n",
      "Processing Record 20 of Set 22 | louis trichardt\n",
      "Processing Record 21 of Set 22 | masuguru\n",
      "Processing Record 22 of Set 22 | deshna\n",
      "City not found. Skipping...\n",
      "Processing Record 23 of Set 22 | nata\n",
      "Processing Record 24 of Set 22 | aybak\n",
      "City not found. Skipping...\n",
      "Processing Record 25 of Set 22 | igarka\n",
      "Processing Record 26 of Set 22 | conde\n",
      "Processing Record 27 of Set 22 | dagatan\n",
      "Processing Record 28 of Set 22 | teknaf\n",
      "Processing Record 29 of Set 22 | te anau\n",
      "Processing Record 30 of Set 22 | chyhyryn\n",
      "Processing Record 31 of Set 22 | talaya\n",
      "Processing Record 32 of Set 22 | ilorin\n",
      "Processing Record 33 of Set 22 | richards bay\n",
      "Processing Record 34 of Set 22 | lasem\n",
      "Processing Record 35 of Set 22 | port-gentil\n",
      "Processing Record 36 of Set 22 | hamilton\n",
      "Processing Record 37 of Set 22 | nguiu\n",
      "City not found. Skipping...\n",
      "Processing Record 38 of Set 22 | sur\n",
      "Processing Record 39 of Set 22 | safaga\n",
      "Processing Record 40 of Set 22 | hasaki\n",
      "Processing Record 41 of Set 22 | barcelos\n",
      "Processing Record 42 of Set 22 | bosconia\n",
      "Processing Record 43 of Set 22 | buala\n",
      "Processing Record 44 of Set 22 | namatanai\n",
      "Processing Record 45 of Set 22 | samalaeulu\n",
      "City not found. Skipping...\n",
      "Processing Record 46 of Set 22 | vallenar\n",
      "Processing Record 47 of Set 22 | tarauaca\n",
      "Processing Record 48 of Set 22 | dingzhou\n",
      "Processing Record 49 of Set 22 | saint-pierre\n",
      "Processing Record 50 of Set 22 | telgte\n",
      "Processing Record 1 of Set 23 | terrace\n",
      "Processing Record 2 of Set 23 | eston\n",
      "Processing Record 3 of Set 23 | sunrise manor\n",
      "Processing Record 4 of Set 23 | uspenka\n",
      "Processing Record 5 of Set 23 | ituni\n",
      "City not found. Skipping...\n",
      "Processing Record 6 of Set 23 | kuryk\n",
      "Processing Record 7 of Set 23 | paamiut\n",
      "Processing Record 8 of Set 23 | sudzha\n",
      "Processing Record 9 of Set 23 | inhambupe\n",
      "Processing Record 10 of Set 23 | petrivka\n",
      "Processing Record 11 of Set 23 | sassandra\n",
      "Processing Record 12 of Set 23 | hadejia\n",
      "Processing Record 13 of Set 23 | bethanien\n",
      "Processing Record 14 of Set 23 | kupang\n",
      "Processing Record 15 of Set 23 | chengde\n",
      "Processing Record 16 of Set 23 | khani\n",
      "Processing Record 17 of Set 23 | naze\n",
      "Processing Record 18 of Set 23 | raga\n",
      "Processing Record 19 of Set 23 | nakusp\n",
      "Processing Record 20 of Set 23 | martinez\n",
      "Processing Record 21 of Set 23 | tsienyane\n",
      "City not found. Skipping...\n",
      "Processing Record 22 of Set 23 | verkhozim\n",
      "Processing Record 23 of Set 23 | kieta\n",
      "Processing Record 24 of Set 23 | kabinda\n",
      "Processing Record 25 of Set 23 | norman wells\n",
      "Processing Record 26 of Set 23 | necochea\n",
      "Processing Record 27 of Set 23 | noumea\n",
      "Processing Record 28 of Set 23 | usinsk\n",
      "Processing Record 29 of Set 23 | batabano\n",
      "Processing Record 30 of Set 23 | okha\n",
      "Processing Record 31 of Set 23 | dali\n",
      "Processing Record 32 of Set 23 | bosaso\n",
      "Processing Record 33 of Set 23 | bowen\n",
      "Processing Record 34 of Set 23 | saurimo\n",
      "Processing Record 35 of Set 23 | praia\n",
      "Processing Record 36 of Set 23 | bonthe\n",
      "Processing Record 37 of Set 23 | harqalah\n",
      "Processing Record 38 of Set 23 | yar-sale\n",
      "Processing Record 39 of Set 23 | prince rupert\n",
      "Processing Record 40 of Set 23 | iralaya\n",
      "Processing Record 41 of Set 23 | hovd\n",
      "Processing Record 42 of Set 23 | mascote\n",
      "Processing Record 43 of Set 23 | nioro\n",
      "Processing Record 44 of Set 23 | paita\n",
      "Processing Record 45 of Set 23 | gairo\n",
      "Processing Record 46 of Set 23 | dolores\n",
      "Processing Record 47 of Set 23 | beirut\n",
      "Processing Record 48 of Set 23 | ikot ekpene\n",
      "Processing Record 49 of Set 23 | umea\n",
      "Processing Record 50 of Set 23 | karaul\n",
      "City not found. Skipping...\n",
      "Processing Record 1 of Set 24 | severo-kurilsk\n",
      "Processing Record 2 of Set 24 | borovoy\n",
      "Processing Record 3 of Set 24 | ambulu\n",
      "Processing Record 4 of Set 24 | bandarbeyla\n",
      "Processing Record 5 of Set 24 | kibaya\n",
      "Processing Record 6 of Set 24 | weligama\n",
      "Processing Record 7 of Set 24 | travesia\n"
     ]
    },
    {
     "name": "stdout",
     "output_type": "stream",
     "text": [
      "Processing Record 8 of Set 24 | zhigansk\n",
      "Processing Record 9 of Set 24 | mahajanga\n",
      "Processing Record 10 of Set 24 | riyadh\n",
      "Processing Record 11 of Set 24 | salamanca\n",
      "Processing Record 12 of Set 24 | alto araguaia\n",
      "Processing Record 13 of Set 24 | pustoshka\n",
      "Processing Record 14 of Set 24 | kyshtovka\n",
      "Processing Record 15 of Set 24 | hambantota\n",
      "Processing Record 16 of Set 24 | nyuksenitsa\n",
      "Processing Record 17 of Set 24 | tshikapa\n",
      "Processing Record 18 of Set 24 | malwan\n",
      "City not found. Skipping...\n",
      "Processing Record 19 of Set 24 | khorixas\n",
      "Processing Record 20 of Set 24 | lavrentiya\n",
      "Processing Record 21 of Set 24 | magadan\n",
      "Processing Record 22 of Set 24 | coquimbo\n",
      "Processing Record 23 of Set 24 | qaqortoq\n",
      "Processing Record 24 of Set 24 | nyrob\n",
      "Processing Record 25 of Set 24 | pahrump\n",
      "Processing Record 26 of Set 24 | fairbanks\n",
      "Processing Record 27 of Set 24 | vardo\n",
      "Processing Record 28 of Set 24 | ouro preto\n",
      "Processing Record 29 of Set 24 | lashio\n",
      "Processing Record 30 of Set 24 | ossora\n",
      "Processing Record 31 of Set 24 | alice springs\n",
      "Processing Record 32 of Set 24 | skjervoy\n",
      "Processing Record 33 of Set 24 | sechura\n",
      "Processing Record 34 of Set 24 | clyde river\n",
      "Processing Record 35 of Set 24 | aasiaat\n",
      "Processing Record 36 of Set 24 | darhan\n",
      "Processing Record 37 of Set 24 | bahia honda\n",
      "Processing Record 38 of Set 24 | sistranda\n",
      "Processing Record 39 of Set 24 | batemans bay\n",
      "Processing Record 40 of Set 24 | esmeraldas\n",
      "Processing Record 41 of Set 24 | arcata\n",
      "Processing Record 42 of Set 24 | bossembele\n",
      "City not found. Skipping...\n",
      "Processing Record 43 of Set 24 | chenzhou\n",
      "Processing Record 44 of Set 24 | shetpe\n",
      "Processing Record 45 of Set 24 | mattru\n",
      "Processing Record 46 of Set 24 | mount gambier\n",
      "Processing Record 47 of Set 24 | maun\n",
      "Processing Record 48 of Set 24 | kui buri\n",
      "Processing Record 49 of Set 24 | shelburne\n",
      "Processing Record 50 of Set 24 | vega de alatorre\n",
      "Processing Record 1 of Set 25 | tevriz\n",
      "Processing Record 2 of Set 25 | ferkessedougou\n",
      "Processing Record 3 of Set 25 | vegueta\n",
      "Processing Record 4 of Set 25 | maniitsoq\n",
      "Processing Record 5 of Set 25 | guozhen\n",
      "Processing Record 6 of Set 25 | banes\n",
      "Processing Record 7 of Set 25 | sooke\n",
      "Processing Record 8 of Set 25 | baoding\n",
      "Processing Record 9 of Set 25 | solvychegodsk\n",
      "Processing Record 10 of Set 25 | ciudad bolivar\n",
      "Processing Record 11 of Set 25 | ontario\n",
      "Processing Record 12 of Set 25 | lolua\n",
      "City not found. Skipping...\n",
      "Processing Record 13 of Set 25 | vaitape\n",
      "Processing Record 14 of Set 25 | tiznit\n",
      "Processing Record 15 of Set 25 | jagannathpur\n",
      "Processing Record 16 of Set 25 | honghu\n",
      "Processing Record 17 of Set 25 | isangel\n",
      "Processing Record 18 of Set 25 | vikulovo\n",
      "Processing Record 19 of Set 25 | kabale\n",
      "Processing Record 20 of Set 25 | tautira\n",
      "Processing Record 21 of Set 25 | douglas\n",
      "Processing Record 22 of Set 25 | solsvik\n",
      "City not found. Skipping...\n",
      "Processing Record 23 of Set 25 | san ramon\n",
      "Processing Record 24 of Set 25 | san cristobal\n",
      "Processing Record 25 of Set 25 | shimoda\n",
      "Processing Record 26 of Set 25 | kenai\n",
      "Processing Record 27 of Set 25 | tarudant\n",
      "City not found. Skipping...\n",
      "Processing Record 28 of Set 25 | champerico\n",
      "Processing Record 29 of Set 25 | puri\n",
      "Processing Record 30 of Set 25 | blythe\n",
      "Processing Record 31 of Set 25 | price\n",
      "Processing Record 32 of Set 25 | nurota\n",
      "Processing Record 33 of Set 25 | asau\n",
      "Processing Record 34 of Set 25 | svetlyy\n",
      "Processing Record 35 of Set 25 | nizhniy tsasuchey\n",
      "-----------------------------\n",
      "Data Retrieval Complete      \n",
      "-----------------------------\n"
     ]
    }
   ],
   "source": [
    "# Create an empty list to hold the weather data.\n",
    "city_data = []\n",
    "# Print the beginning of the logging.\n",
    "print(\"Beginning Data Retrieval     \")\n",
    "print(\"-----------------------------\")\n",
    "\n",
    "# Create counters.\n",
    "record_count = 1\n",
    "set_count = 1\n",
    "\n",
    "# Loop through all the cities in our list.\n",
    "for i in range(len(cities)):\n",
    "\n",
    "    # Group cities in sets of 50 for logging purposes.\n",
    "    if (i % 50 == 0 and i >= 50):\n",
    "        set_count += 1\n",
    "        record_count = 1\n",
    "    # Create endpoint URL with each city.\n",
    "    city_url = url + \"&q=\" + cities[i]\n",
    "    \n",
    "    # Loop through all the cities in the list.\n",
    "for i, city in enumerate(cities):\n",
    "\n",
    "    # Group cities in sets of 50 for logging purposes.\n",
    "    if (i % 50 == 0 and i >= 50):\n",
    "        set_count += 1\n",
    "        record_count = 1\n",
    "    # Create endpoint URL with each city.\n",
    "    city_url = url + \"&q=\" + city.replace(\" \",\"+\")\n",
    "\n",
    "    # Log the URL, record, and set numbers and the city.\n",
    "    print(f\"Processing Record {record_count} of Set {set_count} | {city}\")\n",
    "    # Add 1 to the record count.\n",
    "    record_count += 1\n",
    "    \n",
    "    # Run an API request for each of the cities.\n",
    "    try:\n",
    "        # Parse the JSON and retrieve data.\n",
    "        city_weather = requests.get(city_url).json()\n",
    "        # Parse out the needed data.\n",
    "        city_lat = city_weather[\"coord\"][\"lat\"]\n",
    "        city_lng = city_weather[\"coord\"][\"lon\"]\n",
    "        city_max_temp = city_weather[\"main\"][\"temp_max\"]\n",
    "        city_humidity = city_weather[\"main\"][\"humidity\"]\n",
    "        city_clouds = city_weather[\"clouds\"][\"all\"]\n",
    "        city_wind = city_weather[\"wind\"][\"speed\"]\n",
    "        city_country = city_weather[\"sys\"][\"country\"]\n",
    "        # Convert the date to ISO standard.\n",
    "        city_date = datetime.utcfromtimestamp(city_weather[\"dt\"]).strftime('%Y-%m-%d %H:%M:%S')\n",
    "        # Append the city information into city_data list.\n",
    "        city_data.append({\"City\": city.title(),\n",
    "                          \"Lat\": city_lat,\n",
    "                          \"Lng\": city_lng,\n",
    "                          \"Max Temp\": city_max_temp,\n",
    "                          \"Humidity\": city_humidity,\n",
    "                          \"Cloudiness\": city_clouds,\n",
    "                          \"Wind Speed\": city_wind,\n",
    "                          \"Country\": city_country,\n",
    "                          \"Date\": city_date})\n",
    "\n",
    "# If an error is experienced, skip the city.\n",
    "    except:\n",
    "        print(\"City not found. Skipping...\")\n",
    "        pass\n",
    "\n",
    "# Indicate that Data Loading is complete.\n",
    "print(\"-----------------------------\")\n",
    "print(\"Data Retrieval Complete      \")\n",
    "print(\"-----------------------------\")"
   ]
  },
  {
   "cell_type": "code",
   "execution_count": 26,
   "metadata": {},
   "outputs": [
    {
     "data": {
      "text/html": [
       "<div>\n",
       "<style scoped>\n",
       "    .dataframe tbody tr th:only-of-type {\n",
       "        vertical-align: middle;\n",
       "    }\n",
       "\n",
       "    .dataframe tbody tr th {\n",
       "        vertical-align: top;\n",
       "    }\n",
       "\n",
       "    .dataframe thead th {\n",
       "        text-align: right;\n",
       "    }\n",
       "</style>\n",
       "<table border=\"1\" class=\"dataframe\">\n",
       "  <thead>\n",
       "    <tr style=\"text-align: right;\">\n",
       "      <th></th>\n",
       "      <th>City</th>\n",
       "      <th>Lat</th>\n",
       "      <th>Lng</th>\n",
       "      <th>Max Temp</th>\n",
       "      <th>Humidity</th>\n",
       "      <th>Cloudiness</th>\n",
       "      <th>Wind Speed</th>\n",
       "      <th>Country</th>\n",
       "      <th>Date</th>\n",
       "    </tr>\n",
       "  </thead>\n",
       "  <tbody>\n",
       "    <tr>\n",
       "      <th>0</th>\n",
       "      <td>Ushuaia</td>\n",
       "      <td>-54.8000</td>\n",
       "      <td>-68.3000</td>\n",
       "      <td>50.00</td>\n",
       "      <td>66</td>\n",
       "      <td>20</td>\n",
       "      <td>18.41</td>\n",
       "      <td>AR</td>\n",
       "      <td>2021-03-23 01:48:03</td>\n",
       "    </tr>\n",
       "    <tr>\n",
       "      <th>1</th>\n",
       "      <td>Kloulklubed</td>\n",
       "      <td>7.0419</td>\n",
       "      <td>134.2556</td>\n",
       "      <td>84.20</td>\n",
       "      <td>79</td>\n",
       "      <td>75</td>\n",
       "      <td>17.27</td>\n",
       "      <td>PW</td>\n",
       "      <td>2021-03-23 01:48:04</td>\n",
       "    </tr>\n",
       "    <tr>\n",
       "      <th>2</th>\n",
       "      <td>Katsuura</td>\n",
       "      <td>35.1333</td>\n",
       "      <td>140.3000</td>\n",
       "      <td>55.99</td>\n",
       "      <td>46</td>\n",
       "      <td>20</td>\n",
       "      <td>6.91</td>\n",
       "      <td>JP</td>\n",
       "      <td>2021-03-23 01:48:04</td>\n",
       "    </tr>\n",
       "    <tr>\n",
       "      <th>3</th>\n",
       "      <td>Ende</td>\n",
       "      <td>-8.8432</td>\n",
       "      <td>121.6623</td>\n",
       "      <td>83.68</td>\n",
       "      <td>74</td>\n",
       "      <td>100</td>\n",
       "      <td>1.59</td>\n",
       "      <td>ID</td>\n",
       "      <td>2021-03-23 01:48:04</td>\n",
       "    </tr>\n",
       "    <tr>\n",
       "      <th>4</th>\n",
       "      <td>Preobrazheniye</td>\n",
       "      <td>42.9019</td>\n",
       "      <td>133.9064</td>\n",
       "      <td>40.35</td>\n",
       "      <td>63</td>\n",
       "      <td>98</td>\n",
       "      <td>9.95</td>\n",
       "      <td>RU</td>\n",
       "      <td>2021-03-23 01:48:04</td>\n",
       "    </tr>\n",
       "    <tr>\n",
       "      <th>5</th>\n",
       "      <td>Padang</td>\n",
       "      <td>-0.9492</td>\n",
       "      <td>100.3543</td>\n",
       "      <td>78.80</td>\n",
       "      <td>83</td>\n",
       "      <td>40</td>\n",
       "      <td>2.30</td>\n",
       "      <td>ID</td>\n",
       "      <td>2021-03-23 01:48:05</td>\n",
       "    </tr>\n",
       "    <tr>\n",
       "      <th>6</th>\n",
       "      <td>Cayenne</td>\n",
       "      <td>4.9333</td>\n",
       "      <td>-52.3333</td>\n",
       "      <td>77.00</td>\n",
       "      <td>94</td>\n",
       "      <td>75</td>\n",
       "      <td>8.05</td>\n",
       "      <td>GF</td>\n",
       "      <td>2021-03-23 01:47:44</td>\n",
       "    </tr>\n",
       "    <tr>\n",
       "      <th>7</th>\n",
       "      <td>High Prairie</td>\n",
       "      <td>55.4334</td>\n",
       "      <td>-116.4858</td>\n",
       "      <td>21.20</td>\n",
       "      <td>73</td>\n",
       "      <td>92</td>\n",
       "      <td>5.75</td>\n",
       "      <td>CA</td>\n",
       "      <td>2021-03-23 01:48:05</td>\n",
       "    </tr>\n",
       "    <tr>\n",
       "      <th>8</th>\n",
       "      <td>Arraial Do Cabo</td>\n",
       "      <td>-22.9661</td>\n",
       "      <td>-42.0278</td>\n",
       "      <td>76.32</td>\n",
       "      <td>85</td>\n",
       "      <td>23</td>\n",
       "      <td>4.85</td>\n",
       "      <td>BR</td>\n",
       "      <td>2021-03-23 01:48:05</td>\n",
       "    </tr>\n",
       "    <tr>\n",
       "      <th>9</th>\n",
       "      <td>Busselton</td>\n",
       "      <td>-33.6500</td>\n",
       "      <td>115.3333</td>\n",
       "      <td>63.00</td>\n",
       "      <td>62</td>\n",
       "      <td>56</td>\n",
       "      <td>1.01</td>\n",
       "      <td>AU</td>\n",
       "      <td>2021-03-23 01:47:39</td>\n",
       "    </tr>\n",
       "  </tbody>\n",
       "</table>\n",
       "</div>"
      ],
      "text/plain": [
       "              City      Lat       Lng  Max Temp  Humidity  Cloudiness  \\\n",
       "0          Ushuaia -54.8000  -68.3000     50.00        66          20   \n",
       "1      Kloulklubed   7.0419  134.2556     84.20        79          75   \n",
       "2         Katsuura  35.1333  140.3000     55.99        46          20   \n",
       "3             Ende  -8.8432  121.6623     83.68        74         100   \n",
       "4   Preobrazheniye  42.9019  133.9064     40.35        63          98   \n",
       "5           Padang  -0.9492  100.3543     78.80        83          40   \n",
       "6          Cayenne   4.9333  -52.3333     77.00        94          75   \n",
       "7     High Prairie  55.4334 -116.4858     21.20        73          92   \n",
       "8  Arraial Do Cabo -22.9661  -42.0278     76.32        85          23   \n",
       "9        Busselton -33.6500  115.3333     63.00        62          56   \n",
       "\n",
       "   Wind Speed Country                 Date  \n",
       "0       18.41      AR  2021-03-23 01:48:03  \n",
       "1       17.27      PW  2021-03-23 01:48:04  \n",
       "2        6.91      JP  2021-03-23 01:48:04  \n",
       "3        1.59      ID  2021-03-23 01:48:04  \n",
       "4        9.95      RU  2021-03-23 01:48:04  \n",
       "5        2.30      ID  2021-03-23 01:48:05  \n",
       "6        8.05      GF  2021-03-23 01:47:44  \n",
       "7        5.75      CA  2021-03-23 01:48:05  \n",
       "8        4.85      BR  2021-03-23 01:48:05  \n",
       "9        1.01      AU  2021-03-23 01:47:39  "
      ]
     },
     "execution_count": 26,
     "metadata": {},
     "output_type": "execute_result"
    }
   ],
   "source": [
    "# Convert the array of dictionaries to a Pandas DataFrame.\n",
    "city_data_df = pd.DataFrame(city_data)\n",
    "city_data_df.head(10)"
   ]
  },
  {
   "cell_type": "code",
   "execution_count": 27,
   "metadata": {},
   "outputs": [],
   "source": [
    "new_column_order = [\"City\", \"Country\", \"Date\", \"Lat\", \"Lng\", \"Max Temp\", \"Humidity\", \"Cloudiness\", \"Wind Speed\"]"
   ]
  },
  {
   "cell_type": "code",
   "execution_count": 28,
   "metadata": {},
   "outputs": [
    {
     "data": {
      "text/html": [
       "<div>\n",
       "<style scoped>\n",
       "    .dataframe tbody tr th:only-of-type {\n",
       "        vertical-align: middle;\n",
       "    }\n",
       "\n",
       "    .dataframe tbody tr th {\n",
       "        vertical-align: top;\n",
       "    }\n",
       "\n",
       "    .dataframe thead th {\n",
       "        text-align: right;\n",
       "    }\n",
       "</style>\n",
       "<table border=\"1\" class=\"dataframe\">\n",
       "  <thead>\n",
       "    <tr style=\"text-align: right;\">\n",
       "      <th></th>\n",
       "      <th>City</th>\n",
       "      <th>Country</th>\n",
       "      <th>Date</th>\n",
       "      <th>Lat</th>\n",
       "      <th>Lng</th>\n",
       "      <th>Max Temp</th>\n",
       "      <th>Humidity</th>\n",
       "      <th>Cloudiness</th>\n",
       "      <th>Wind Speed</th>\n",
       "    </tr>\n",
       "  </thead>\n",
       "  <tbody>\n",
       "    <tr>\n",
       "      <th>0</th>\n",
       "      <td>Ushuaia</td>\n",
       "      <td>AR</td>\n",
       "      <td>2021-03-23 01:48:03</td>\n",
       "      <td>-54.8000</td>\n",
       "      <td>-68.3000</td>\n",
       "      <td>50.00</td>\n",
       "      <td>66</td>\n",
       "      <td>20</td>\n",
       "      <td>18.41</td>\n",
       "    </tr>\n",
       "    <tr>\n",
       "      <th>1</th>\n",
       "      <td>Kloulklubed</td>\n",
       "      <td>PW</td>\n",
       "      <td>2021-03-23 01:48:04</td>\n",
       "      <td>7.0419</td>\n",
       "      <td>134.2556</td>\n",
       "      <td>84.20</td>\n",
       "      <td>79</td>\n",
       "      <td>75</td>\n",
       "      <td>17.27</td>\n",
       "    </tr>\n",
       "    <tr>\n",
       "      <th>2</th>\n",
       "      <td>Katsuura</td>\n",
       "      <td>JP</td>\n",
       "      <td>2021-03-23 01:48:04</td>\n",
       "      <td>35.1333</td>\n",
       "      <td>140.3000</td>\n",
       "      <td>55.99</td>\n",
       "      <td>46</td>\n",
       "      <td>20</td>\n",
       "      <td>6.91</td>\n",
       "    </tr>\n",
       "    <tr>\n",
       "      <th>3</th>\n",
       "      <td>Ende</td>\n",
       "      <td>ID</td>\n",
       "      <td>2021-03-23 01:48:04</td>\n",
       "      <td>-8.8432</td>\n",
       "      <td>121.6623</td>\n",
       "      <td>83.68</td>\n",
       "      <td>74</td>\n",
       "      <td>100</td>\n",
       "      <td>1.59</td>\n",
       "    </tr>\n",
       "    <tr>\n",
       "      <th>4</th>\n",
       "      <td>Preobrazheniye</td>\n",
       "      <td>RU</td>\n",
       "      <td>2021-03-23 01:48:04</td>\n",
       "      <td>42.9019</td>\n",
       "      <td>133.9064</td>\n",
       "      <td>40.35</td>\n",
       "      <td>63</td>\n",
       "      <td>98</td>\n",
       "      <td>9.95</td>\n",
       "    </tr>\n",
       "    <tr>\n",
       "      <th>5</th>\n",
       "      <td>Padang</td>\n",
       "      <td>ID</td>\n",
       "      <td>2021-03-23 01:48:05</td>\n",
       "      <td>-0.9492</td>\n",
       "      <td>100.3543</td>\n",
       "      <td>78.80</td>\n",
       "      <td>83</td>\n",
       "      <td>40</td>\n",
       "      <td>2.30</td>\n",
       "    </tr>\n",
       "    <tr>\n",
       "      <th>6</th>\n",
       "      <td>Cayenne</td>\n",
       "      <td>GF</td>\n",
       "      <td>2021-03-23 01:47:44</td>\n",
       "      <td>4.9333</td>\n",
       "      <td>-52.3333</td>\n",
       "      <td>77.00</td>\n",
       "      <td>94</td>\n",
       "      <td>75</td>\n",
       "      <td>8.05</td>\n",
       "    </tr>\n",
       "    <tr>\n",
       "      <th>7</th>\n",
       "      <td>High Prairie</td>\n",
       "      <td>CA</td>\n",
       "      <td>2021-03-23 01:48:05</td>\n",
       "      <td>55.4334</td>\n",
       "      <td>-116.4858</td>\n",
       "      <td>21.20</td>\n",
       "      <td>73</td>\n",
       "      <td>92</td>\n",
       "      <td>5.75</td>\n",
       "    </tr>\n",
       "    <tr>\n",
       "      <th>8</th>\n",
       "      <td>Arraial Do Cabo</td>\n",
       "      <td>BR</td>\n",
       "      <td>2021-03-23 01:48:05</td>\n",
       "      <td>-22.9661</td>\n",
       "      <td>-42.0278</td>\n",
       "      <td>76.32</td>\n",
       "      <td>85</td>\n",
       "      <td>23</td>\n",
       "      <td>4.85</td>\n",
       "    </tr>\n",
       "    <tr>\n",
       "      <th>9</th>\n",
       "      <td>Busselton</td>\n",
       "      <td>AU</td>\n",
       "      <td>2021-03-23 01:47:39</td>\n",
       "      <td>-33.6500</td>\n",
       "      <td>115.3333</td>\n",
       "      <td>63.00</td>\n",
       "      <td>62</td>\n",
       "      <td>56</td>\n",
       "      <td>1.01</td>\n",
       "    </tr>\n",
       "  </tbody>\n",
       "</table>\n",
       "</div>"
      ],
      "text/plain": [
       "              City Country                 Date      Lat       Lng  Max Temp  \\\n",
       "0          Ushuaia      AR  2021-03-23 01:48:03 -54.8000  -68.3000     50.00   \n",
       "1      Kloulklubed      PW  2021-03-23 01:48:04   7.0419  134.2556     84.20   \n",
       "2         Katsuura      JP  2021-03-23 01:48:04  35.1333  140.3000     55.99   \n",
       "3             Ende      ID  2021-03-23 01:48:04  -8.8432  121.6623     83.68   \n",
       "4   Preobrazheniye      RU  2021-03-23 01:48:04  42.9019  133.9064     40.35   \n",
       "5           Padang      ID  2021-03-23 01:48:05  -0.9492  100.3543     78.80   \n",
       "6          Cayenne      GF  2021-03-23 01:47:44   4.9333  -52.3333     77.00   \n",
       "7     High Prairie      CA  2021-03-23 01:48:05  55.4334 -116.4858     21.20   \n",
       "8  Arraial Do Cabo      BR  2021-03-23 01:48:05 -22.9661  -42.0278     76.32   \n",
       "9        Busselton      AU  2021-03-23 01:47:39 -33.6500  115.3333     63.00   \n",
       "\n",
       "   Humidity  Cloudiness  Wind Speed  \n",
       "0        66          20       18.41  \n",
       "1        79          75       17.27  \n",
       "2        46          20        6.91  \n",
       "3        74         100        1.59  \n",
       "4        63          98        9.95  \n",
       "5        83          40        2.30  \n",
       "6        94          75        8.05  \n",
       "7        73          92        5.75  \n",
       "8        85          23        4.85  \n",
       "9        62          56        1.01  "
      ]
     },
     "execution_count": 28,
     "metadata": {},
     "output_type": "execute_result"
    }
   ],
   "source": [
    "city_data_df =city_data_df[new_column_order]\n",
    "city_data_df.head(10)"
   ]
  },
  {
   "cell_type": "code",
   "execution_count": 29,
   "metadata": {},
   "outputs": [],
   "source": [
    "# Create the output file (CSV).\n",
    "output_data_file = \"weather_data/cities.csv\"\n",
    "# Export the City_Data into a CSV.\n",
    "city_data_df.to_csv(output_data_file, index_label=\"City_ID\")"
   ]
  },
  {
   "cell_type": "code",
   "execution_count": 30,
   "metadata": {},
   "outputs": [],
   "source": [
    "# Extract relevant fields from the DataFrame for plotting.\n",
    "lats = city_data_df[\"Lat\"]\n",
    "max_temps = city_data_df[\"Max Temp\"]\n",
    "humidity = city_data_df[\"Humidity\"]\n",
    "cloudiness = city_data_df[\"Cloudiness\"]\n",
    "wind_speed = city_data_df[\"Wind Speed\"]"
   ]
  },
  {
   "cell_type": "code",
   "execution_count": 31,
   "metadata": {},
   "outputs": [
    {
     "data": {
      "image/png": "[encoded data removed]",
      "text/plain": [
       "<Figure size 432x288 with 1 Axes>"
      ]
     },
     "metadata": {
      "needs_background": "light"
     },
     "output_type": "display_data"
    }
   ],
   "source": [
    "# Import time module\n",
    "import time\n",
    "\n",
    "# Build the scatter plot for latitude vs. max temperature.\n",
    "plt.scatter(lats,\n",
    "            max_temps,\n",
    "            edgecolor=\"black\", linewidths=1, marker=\"o\",\n",
    "            alpha=0.8, label=\"Cities\")\n",
    "\n",
    "# Incorporate the other graph properties.\n",
    "plt.title(f\"City Latitude vs. Max Temperature \"+ time.strftime(\"%x\"))\n",
    "plt.ylabel(\"Max Temperature (F)\")\n",
    "plt.xlabel(\"Latitude\")\n",
    "plt.grid(True)\n",
    "\n",
    "# Save the figure.\n",
    "plt.savefig(\"weather_data/Fig1.png\")\n",
    "\n",
    "# Show plot.\n",
    "plt.show()"
   ]
  },
  {
   "cell_type": "code",
   "execution_count": 32,
   "metadata": {},
   "outputs": [
    {
     "data": {
      "image/png": "[encoded data removed]",
      "text/plain": [
       "<Figure size 432x288 with 1 Axes>"
      ]
     },
     "metadata": {
      "needs_background": "light"
     },
     "output_type": "display_data"
    }
   ],
   "source": [
    "# Build the scatter plots for latitude vs. humidity.\n",
    "plt.scatter(lats,\n",
    "            humidity,\n",
    "            edgecolor=\"black\", linewidths=1, marker=\"o\",\n",
    "            alpha=0.8, label=\"Cities\")\n",
    "\n",
    "# Incorporate the other graph properties.\n",
    "plt.title(f\"City Latitude vs. Humidity \"+ time.strftime(\"%x\"))\n",
    "plt.ylabel(\"Humidity (%)\")\n",
    "plt.xlabel(\"Latitude\")\n",
    "plt.grid(True)\n",
    "# Save the figure.\n",
    "plt.savefig(\"weather_data/Fig2.png\")\n",
    "# Show plot.\n",
    "plt.show()"
   ]
  },
  {
   "cell_type": "code",
   "execution_count": 33,
   "metadata": {},
   "outputs": [
    {
     "data": {
      "image/png": "[encoded data removed]",
      "text/plain": [
       "<Figure size 432x288 with 1 Axes>"
      ]
     },
     "metadata": {
      "needs_background": "light"
     },
     "output_type": "display_data"
    }
   ],
   "source": [
    "# Build the scatter plots for latitude vs. cloudiness.\n",
    "plt.scatter(lats,\n",
    "            cloudiness,\n",
    "            edgecolor=\"black\", linewidths=1, marker=\"o\",\n",
    "            alpha=0.8, label=\"Cities\")\n",
    "\n",
    "# Incorporate the other graph properties.\n",
    "plt.title(f\"City Latitude vs. Cloudiness (%) \"+ time.strftime(\"%x\"))\n",
    "plt.ylabel(\"Cloudiness (%)\")\n",
    "plt.xlabel(\"Latitude\")\n",
    "plt.grid(True)\n",
    "# Save the figure.\n",
    "plt.savefig(\"weather_data/Fig3.png\")\n",
    "# Show plot.\n",
    "plt.show()"
   ]
  },
  {
   "cell_type": "code",
   "execution_count": 34,
   "metadata": {},
   "outputs": [
    {
     "data": {
      "image/png": "[encoded data removed]",
      "text/plain": [
       "<Figure size 432x288 with 1 Axes>"
      ]
     },
     "metadata": {
      "needs_background": "light"
     },
     "output_type": "display_data"
    }
   ],
   "source": [
    "# Build the scatter plots for latitude vs. wind speed.\n",
    "plt.scatter(lats,\n",
    "            wind_speed,\n",
    "            edgecolor=\"black\", linewidths=1, marker=\"o\",\n",
    "            alpha=0.8, label=\"Cities\")\n",
    "\n",
    "# Incorporate the other graph properties.\n",
    "plt.title(f\"City Latitude vs. Wind Speed \"+ time.strftime(\"%x\"))\n",
    "plt.ylabel(\"Wind Speed (mph)\")\n",
    "plt.xlabel(\"Latitude\")\n",
    "plt.grid(True)\n",
    "# Save the figure.\n",
    "plt.savefig(\"weather_data/Fig4.png\")\n",
    "# Show plot.\n",
    "plt.show()"
   ]
  },
  {
   "cell_type": "code",
   "execution_count": 35,
   "metadata": {},
   "outputs": [],
   "source": [
    "# Import linear regression from the SciPy stats module.\n",
    "from scipy.stats import linregress"
   ]
  },
  {
   "cell_type": "code",
   "execution_count": 36,
   "metadata": {},
   "outputs": [],
   "source": [
    "# Import linregress\n",
    "from scipy.stats import linregress\n",
    "\n",
    "# Create a function to create perform linear regression on the weather data\n",
    "# and plot a regression line and the equation with the data.\n",
    "def plot_linear_regression(x_values, y_values, title, y_label, text_coordinates):\n",
    "\n",
    "    # Run regression on hemisphere weather data.\n",
    "    (slope, intercept, r_value, p_value, std_err) = linregress(x_values, y_values)\n",
    "\n",
    "    # Calculate the regression line \"y values\" from the slope and intercept.\n",
    "    regress_values = x_values * slope + intercept\n",
    "    # Get the equation of the line.\n",
    "    line_eq = \"y = \" + str(round(slope,2)) + \"x + \" + str(round(intercept,2))\n",
    "    # Create a scatter plot and plot the regression line.\n",
    "    plt.scatter(x_values,y_values)\n",
    "    plt.plot(x_values,regress_values,\"r\")\n",
    "    # Annotate the text for the line equation.\n",
    "    plt.annotate(line_eq, text_coordinates, fontsize=15, color=\"red\")\n",
    "    plt.xlabel('Latitude')\n",
    "    plt.ylabel(y_label)\n",
    "    plt.show()\n",
    " "
   ]
  },
  {
   "cell_type": "code",
   "execution_count": 37,
   "metadata": {},
   "outputs": [
    {
     "data": {
      "text/plain": [
       "City                     Thompson\n",
       "Country                        CA\n",
       "Date          2021-03-23 01:48:03\n",
       "Lat                       55.7435\n",
       "Lng                      -97.8558\n",
       "Max Temp                     17.6\n",
       "Humidity                       62\n",
       "Cloudiness                     90\n",
       "Wind Speed                   11.5\n",
       "Name: 13, dtype: object"
      ]
     },
     "execution_count": 37,
     "metadata": {},
     "output_type": "execute_result"
    }
   ],
   "source": [
    "index13 = city_data_df.loc[13]\n",
    "index13"
   ]
  },
  {
   "cell_type": "code",
   "execution_count": 38,
   "metadata": {},
   "outputs": [
    {
     "data": {
      "text/plain": [
       "0      False\n",
       "1       True\n",
       "2       True\n",
       "3      False\n",
       "4       True\n",
       "       ...  \n",
       "580     True\n",
       "581     True\n",
       "582     True\n",
       "583     True\n",
       "584     True\n",
       "Name: Lat, Length: 585, dtype: bool"
      ]
     },
     "execution_count": 38,
     "metadata": {},
     "output_type": "execute_result"
    }
   ],
   "source": [
    "city_data_df[\"Lat\"] >= 0"
   ]
  },
  {
   "cell_type": "code",
   "execution_count": 39,
   "metadata": {},
   "outputs": [
    {
     "data": {
      "text/html": [
       "<div>\n",
       "<style scoped>\n",
       "    .dataframe tbody tr th:only-of-type {\n",
       "        vertical-align: middle;\n",
       "    }\n",
       "\n",
       "    .dataframe tbody tr th {\n",
       "        vertical-align: top;\n",
       "    }\n",
       "\n",
       "    .dataframe thead th {\n",
       "        text-align: right;\n",
       "    }\n",
       "</style>\n",
       "<table border=\"1\" class=\"dataframe\">\n",
       "  <thead>\n",
       "    <tr style=\"text-align: right;\">\n",
       "      <th></th>\n",
       "      <th>City</th>\n",
       "      <th>Country</th>\n",
       "      <th>Date</th>\n",
       "      <th>Lat</th>\n",
       "      <th>Lng</th>\n",
       "      <th>Max Temp</th>\n",
       "      <th>Humidity</th>\n",
       "      <th>Cloudiness</th>\n",
       "      <th>Wind Speed</th>\n",
       "    </tr>\n",
       "  </thead>\n",
       "  <tbody>\n",
       "    <tr>\n",
       "      <th>1</th>\n",
       "      <td>Kloulklubed</td>\n",
       "      <td>PW</td>\n",
       "      <td>2021-03-23 01:48:04</td>\n",
       "      <td>7.0419</td>\n",
       "      <td>134.2556</td>\n",
       "      <td>84.20</td>\n",
       "      <td>79</td>\n",
       "      <td>75</td>\n",
       "      <td>17.27</td>\n",
       "    </tr>\n",
       "    <tr>\n",
       "      <th>2</th>\n",
       "      <td>Katsuura</td>\n",
       "      <td>JP</td>\n",
       "      <td>2021-03-23 01:48:04</td>\n",
       "      <td>35.1333</td>\n",
       "      <td>140.3000</td>\n",
       "      <td>55.99</td>\n",
       "      <td>46</td>\n",
       "      <td>20</td>\n",
       "      <td>6.91</td>\n",
       "    </tr>\n",
       "    <tr>\n",
       "      <th>4</th>\n",
       "      <td>Preobrazheniye</td>\n",
       "      <td>RU</td>\n",
       "      <td>2021-03-23 01:48:04</td>\n",
       "      <td>42.9019</td>\n",
       "      <td>133.9064</td>\n",
       "      <td>40.35</td>\n",
       "      <td>63</td>\n",
       "      <td>98</td>\n",
       "      <td>9.95</td>\n",
       "    </tr>\n",
       "    <tr>\n",
       "      <th>6</th>\n",
       "      <td>Cayenne</td>\n",
       "      <td>GF</td>\n",
       "      <td>2021-03-23 01:47:44</td>\n",
       "      <td>4.9333</td>\n",
       "      <td>-52.3333</td>\n",
       "      <td>77.00</td>\n",
       "      <td>94</td>\n",
       "      <td>75</td>\n",
       "      <td>8.05</td>\n",
       "    </tr>\n",
       "    <tr>\n",
       "      <th>7</th>\n",
       "      <td>High Prairie</td>\n",
       "      <td>CA</td>\n",
       "      <td>2021-03-23 01:48:05</td>\n",
       "      <td>55.4334</td>\n",
       "      <td>-116.4858</td>\n",
       "      <td>21.20</td>\n",
       "      <td>73</td>\n",
       "      <td>92</td>\n",
       "      <td>5.75</td>\n",
       "    </tr>\n",
       "  </tbody>\n",
       "</table>\n",
       "</div>"
      ],
      "text/plain": [
       "             City Country                 Date      Lat       Lng  Max Temp  \\\n",
       "1     Kloulklubed      PW  2021-03-23 01:48:04   7.0419  134.2556     84.20   \n",
       "2        Katsuura      JP  2021-03-23 01:48:04  35.1333  140.3000     55.99   \n",
       "4  Preobrazheniye      RU  2021-03-23 01:48:04  42.9019  133.9064     40.35   \n",
       "6         Cayenne      GF  2021-03-23 01:47:44   4.9333  -52.3333     77.00   \n",
       "7    High Prairie      CA  2021-03-23 01:48:05  55.4334 -116.4858     21.20   \n",
       "\n",
       "   Humidity  Cloudiness  Wind Speed  \n",
       "1        79          75       17.27  \n",
       "2        46          20        6.91  \n",
       "4        63          98        9.95  \n",
       "6        94          75        8.05  \n",
       "7        73          92        5.75  "
      ]
     },
     "execution_count": 39,
     "metadata": {},
     "output_type": "execute_result"
    }
   ],
   "source": [
    "city_data_df.loc[(city_data_df[\"Lat\"] >= 0)].head()"
   ]
  },
  {
   "cell_type": "code",
   "execution_count": 40,
   "metadata": {},
   "outputs": [],
   "source": [
    "# Create Northern and Southern Hemisphere DataFrames.\n",
    "northern_hemi_df = city_data_df.loc[(city_data_df[\"Lat\"] >= 0)]\n",
    "southern_hemi_df = city_data_df.loc[(city_data_df[\"Lat\"] < 0)]"
   ]
  },
  {
   "cell_type": "code",
   "execution_count": 41,
   "metadata": {},
   "outputs": [
    {
     "data": {
      "image/png": "[encoded data removed]",
      "text/plain": [
       "<Figure size 432x288 with 1 Axes>"
      ]
     },
     "metadata": {
      "needs_background": "light"
     },
     "output_type": "display_data"
    }
   ],
   "source": [
    "# Linear regression on the Northern Hemisphere\n",
    "x_values = northern_hemi_df[\"Lat\"]\n",
    "y_values = northern_hemi_df[\"Max Temp\"]\n",
    "# Call the function.\n",
    "plt.title(\"Linear Regression on the Northern Hemisphere For Max Temp\")\n",
    "plot_linear_regression(x_values, y_values,\n",
    "                       'Linear Regression on the Northern Hemisphere \\\n",
    "                        for Maximum Temperature', 'Max Temp',(10,40))\n"
   ]
  },
  {
   "cell_type": "code",
   "execution_count": 42,
   "metadata": {},
   "outputs": [
    {
     "data": {
      "image/png": "[encoded data removed]",
      "text/plain": [
       "<Figure size 432x288 with 1 Axes>"
      ]
     },
     "metadata": {
      "needs_background": "light"
     },
     "output_type": "display_data"
    }
   ],
   "source": [
    "# Linear regression on the Southern Hemisphere\n",
    "x_values = southern_hemi_df[\"Lat\"]\n",
    "y_values = southern_hemi_df[\"Max Temp\"]\n",
    "# Call the function.\n",
    "plt.title(\"Linear Regression on the Southern Hemisphere For Max Temp\")\n",
    "plot_linear_regression(x_values, y_values,\n",
    "                       'Linear Regression on the Southern Hemisphere \\\n",
    "                        for Maximum Temperature', 'Max Temp',(-50,90))"
   ]
  },
  {
   "cell_type": "code",
   "execution_count": 43,
   "metadata": {},
   "outputs": [
    {
     "data": {
      "image/png": "[encoded data removed]",
      "text/plain": [
       "<Figure size 432x288 with 1 Axes>"
      ]
     },
     "metadata": {
      "needs_background": "light"
     },
     "output_type": "display_data"
    }
   ],
   "source": [
    "# Linear regression on the Northern Hemisphere\n",
    "x_values = northern_hemi_df[\"Lat\"]\n",
    "y_values = northern_hemi_df[\"Humidity\"]\n",
    "# Call the function.\n",
    "plt.title(\"Linear Regression on the Northern Hemisphere For % Humidity\")\n",
    "plot_linear_regression(x_values, y_values,\n",
    "                       'Linear Regression on the Northern Hemisphere \\\n",
    "                        for % Humidity', '% Humidity',(40,10))"
   ]
  },
  {
   "cell_type": "code",
   "execution_count": 44,
   "metadata": {},
   "outputs": [
    {
     "data": {
      "image/png": "[encoded data removed]",
      "text/plain": [
       "<Figure size 432x288 with 1 Axes>"
      ]
     },
     "metadata": {
      "needs_background": "light"
     },
     "output_type": "display_data"
    }
   ],
   "source": [
    "# Linear regression on the Southern Hemisphere\n",
    "x_values = southern_hemi_df[\"Lat\"]\n",
    "y_values = southern_hemi_df[\"Humidity\"]\n",
    "# Call the function.\n",
    "plt.title(\"Linear Regression on the Southern Hemisphere For % Humidity\")\n",
    "plot_linear_regression(x_values, y_values,\n",
    "                       'Linear Regression on the Southern Hemisphere \\\n",
    "                        for % Humidity', '% Humidity',(-50,15))"
   ]
  },
  {
   "cell_type": "code",
   "execution_count": 45,
   "metadata": {},
   "outputs": [
    {
     "data": {
      "image/png": "[encoded data removed]",
      "text/plain": [
       "<Figure size 432x288 with 1 Axes>"
      ]
     },
     "metadata": {
      "needs_background": "light"
     },
     "output_type": "display_data"
    }
   ],
   "source": [
    "# Linear regression on the Northern Hemisphere\n",
    "x_values = northern_hemi_df[\"Lat\"]\n",
    "y_values = northern_hemi_df[\"Cloudiness\"]\n",
    "# Call the function.\n",
    "plt.title(\"Linear Regression on the Northern Hemisphere For % Cloudiness\")\n",
    "plot_linear_regression(x_values, y_values,\n",
    "                       'Linear Regression on the Northern Hemisphere \\\n",
    "                        for % Cloudiness', '% Cloudiness',(-50,60))"
   ]
  },
  {
   "cell_type": "code",
   "execution_count": 46,
   "metadata": {},
   "outputs": [
    {
     "data": {
      "image/png": "[encoded data removed]",
      "text/plain": [
       "<Figure size 432x288 with 1 Axes>"
      ]
     },
     "metadata": {
      "needs_background": "light"
     },
     "output_type": "display_data"
    }
   ],
   "source": [
    "# Linear regression on the Southern Hemisphere\n",
    "x_values = southern_hemi_df[\"Lat\"]\n",
    "y_values = southern_hemi_df[\"Cloudiness\"]\n",
    "# Call the function.\n",
    "plt.title(\"Linear Regression on the Southern Hemisphere For % Cloudiness\")\n",
    "plot_linear_regression(x_values, y_values,\n",
    "                       'Linear Regression on the Southern Hemisphere \\\n",
    "                        for % Cloudiness', '% Cloudiness',(-50,60))"
   ]
  },
  {
   "cell_type": "code",
   "execution_count": 47,
   "metadata": {},
   "outputs": [
    {
     "data": {
      "image/png": "[encoded data removed]",
      "text/plain": [
       "<Figure size 432x288 with 1 Axes>"
      ]
     },
     "metadata": {
      "needs_background": "light"
     },
     "output_type": "display_data"
    }
   ],
   "source": [
    "# Linear regression on the Northern Hemisphere\n",
    "x_values = northern_hemi_df[\"Lat\"]\n",
    "y_values = northern_hemi_df[\"Wind Speed\"]\n",
    "# Call the function.\n",
    "plt.title(\"Linear Regression on the Northern Hemisphere For Windspeed\")\n",
    "plot_linear_regression(x_values, y_values,\n",
    "                       'Linear Regression on the Northern Hemisphere \\\n",
    "                        for Wind Speed', 'Wind Speed',(40,35))"
   ]
  },
  {
   "cell_type": "code",
   "execution_count": 48,
   "metadata": {},
   "outputs": [
    {
     "data": {
      "image/png": "[encoded data removed]",
      "text/plain": [
       "<Figure size 432x288 with 1 Axes>"
      ]
     },
     "metadata": {
      "needs_background": "light"
     },
     "output_type": "display_data"
    }
   ],
   "source": [
    "# Linear regression on the Southern Hemisphere\n",
    "x_values = southern_hemi_df[\"Lat\"]\n",
    "y_values = southern_hemi_df[\"Wind Speed\"]\n",
    "# Call the function.\n",
    "plt.title(\"Linear Regression on the Southern Hemisphere For Windspeed\")\n",
    "plot_linear_regression(x_values, y_values,\n",
    "                       'Linear Regression on the Southern Hemisphere \\\n",
    "                        for Wind Speed', 'Wind Speed',(-50,35))"
   ]
  },
  {
   "cell_type": "code",
   "execution_count": 49,
   "metadata": {},
   "outputs": [],
   "source": [
    "# Import the dependencies.\n",
    "import pandas as pd\n",
    "import gmaps\n",
    "import requests\n",
    "# Import the API key.\n",
    "from config import g_key"
   ]
  },
  {
   "cell_type": "code",
   "execution_count": 50,
   "metadata": {},
   "outputs": [
    {
     "data": {
      "text/html": [
       "<div>\n",
       "<style scoped>\n",
       "    .dataframe tbody tr th:only-of-type {\n",
       "        vertical-align: middle;\n",
       "    }\n",
       "\n",
       "    .dataframe tbody tr th {\n",
       "        vertical-align: top;\n",
       "    }\n",
       "\n",
       "    .dataframe thead th {\n",
       "        text-align: right;\n",
       "    }\n",
       "</style>\n",
       "<table border=\"1\" class=\"dataframe\">\n",
       "  <thead>\n",
       "    <tr style=\"text-align: right;\">\n",
       "      <th></th>\n",
       "      <th>City_ID</th>\n",
       "      <th>City</th>\n",
       "      <th>Country</th>\n",
       "      <th>Date</th>\n",
       "      <th>Lat</th>\n",
       "      <th>Lng</th>\n",
       "      <th>Max Temp</th>\n",
       "      <th>Humidity</th>\n",
       "      <th>Cloudiness</th>\n",
       "      <th>Wind Speed</th>\n",
       "    </tr>\n",
       "  </thead>\n",
       "  <tbody>\n",
       "    <tr>\n",
       "      <th>0</th>\n",
       "      <td>0</td>\n",
       "      <td>Ushuaia</td>\n",
       "      <td>AR</td>\n",
       "      <td>2021-03-23 01:48:03</td>\n",
       "      <td>-54.8000</td>\n",
       "      <td>-68.3000</td>\n",
       "      <td>50.00</td>\n",
       "      <td>66</td>\n",
       "      <td>20</td>\n",
       "      <td>18.41</td>\n",
       "    </tr>\n",
       "    <tr>\n",
       "      <th>1</th>\n",
       "      <td>1</td>\n",
       "      <td>Kloulklubed</td>\n",
       "      <td>PW</td>\n",
       "      <td>2021-03-23 01:48:04</td>\n",
       "      <td>7.0419</td>\n",
       "      <td>134.2556</td>\n",
       "      <td>84.20</td>\n",
       "      <td>79</td>\n",
       "      <td>75</td>\n",
       "      <td>17.27</td>\n",
       "    </tr>\n",
       "    <tr>\n",
       "      <th>2</th>\n",
       "      <td>2</td>\n",
       "      <td>Katsuura</td>\n",
       "      <td>JP</td>\n",
       "      <td>2021-03-23 01:48:04</td>\n",
       "      <td>35.1333</td>\n",
       "      <td>140.3000</td>\n",
       "      <td>55.99</td>\n",
       "      <td>46</td>\n",
       "      <td>20</td>\n",
       "      <td>6.91</td>\n",
       "    </tr>\n",
       "    <tr>\n",
       "      <th>3</th>\n",
       "      <td>3</td>\n",
       "      <td>Ende</td>\n",
       "      <td>ID</td>\n",
       "      <td>2021-03-23 01:48:04</td>\n",
       "      <td>-8.8432</td>\n",
       "      <td>121.6623</td>\n",
       "      <td>83.68</td>\n",
       "      <td>74</td>\n",
       "      <td>100</td>\n",
       "      <td>1.59</td>\n",
       "    </tr>\n",
       "    <tr>\n",
       "      <th>4</th>\n",
       "      <td>4</td>\n",
       "      <td>Preobrazheniye</td>\n",
       "      <td>RU</td>\n",
       "      <td>2021-03-23 01:48:04</td>\n",
       "      <td>42.9019</td>\n",
       "      <td>133.9064</td>\n",
       "      <td>40.35</td>\n",
       "      <td>63</td>\n",
       "      <td>98</td>\n",
       "      <td>9.95</td>\n",
       "    </tr>\n",
       "  </tbody>\n",
       "</table>\n",
       "</div>"
      ],
      "text/plain": [
       "   City_ID            City Country                 Date      Lat       Lng  \\\n",
       "0        0         Ushuaia      AR  2021-03-23 01:48:03 -54.8000  -68.3000   \n",
       "1        1     Kloulklubed      PW  2021-03-23 01:48:04   7.0419  134.2556   \n",
       "2        2        Katsuura      JP  2021-03-23 01:48:04  35.1333  140.3000   \n",
       "3        3            Ende      ID  2021-03-23 01:48:04  -8.8432  121.6623   \n",
       "4        4  Preobrazheniye      RU  2021-03-23 01:48:04  42.9019  133.9064   \n",
       "\n",
       "   Max Temp  Humidity  Cloudiness  Wind Speed  \n",
       "0     50.00        66          20       18.41  \n",
       "1     84.20        79          75       17.27  \n",
       "2     55.99        46          20        6.91  \n",
       "3     83.68        74         100        1.59  \n",
       "4     40.35        63          98        9.95  "
      ]
     },
     "execution_count": 50,
     "metadata": {},
     "output_type": "execute_result"
    }
   ],
   "source": [
    "# Store the CSV you saved created in part one into a DataFrame.\n",
    "city_data_df = pd.read_csv(\"weather_data/cities.csv\")\n",
    "city_data_df.head()"
   ]
  },
  {
   "cell_type": "code",
   "execution_count": 51,
   "metadata": {},
   "outputs": [],
   "source": [
    "# Configure gmaps to use your Google API key.\n",
    "gmaps.configure(api_key=g_key)"
   ]
  },
  {
   "cell_type": "code",
   "execution_count": 52,
   "metadata": {},
   "outputs": [],
   "source": [
    "# Get the maximum temperature.\n",
    "max_temp = city_data_df[\"Max Temp\"]\n",
    "temps = []\n",
    "for temp in max_temp:\n",
    "    temps.append(max(temp, 0))"
   ]
  },
  {
   "cell_type": "code",
   "execution_count": 53,
   "metadata": {},
   "outputs": [
    {
     "data": {
      "application/vnd.jupyter.widget-view+json": {
       "model_id": "2edf52809a4d4a9bbc2388c1d0db7e03",
       "version_major": 2,
       "version_minor": 0
      },
      "text/plain": [
       "Figure(layout=FigureLayout(height='420px'))"
      ]
     },
     "metadata": {},
     "output_type": "display_data"
    }
   ],
   "source": [
    "# Heatmap of temperature\n",
    "# Get the latitude and longitude.\n",
    "locations = city_data_df[[\"Lat\", \"Lng\"]]\n",
    "# Get the maximum temperature.\n",
    "max_temp = city_data_df[\"Max Temp\"]\n",
    "# Assign the figure variable.\n",
    "fig = gmaps.figure()\n",
    "# Assign the heatmap variable.\n",
    "heat_layer = gmaps.heatmap_layer(locations, weights=[max(temp, 0) for temp in max_temp])\n",
    "# Add the heatmap layer.\n",
    "fig.add_layer(heat_layer)\n",
    "# Call the figure to plot the data.\n",
    "fig"
   ]
  },
  {
   "cell_type": "code",
   "execution_count": 54,
   "metadata": {},
   "outputs": [],
   "source": [
    "fig = gmaps.figure(center=(30.0, 31.0), zoom_level=1.5)"
   ]
  },
  {
   "cell_type": "code",
   "execution_count": 56,
   "metadata": {},
   "outputs": [
    {
     "data": {
      "application/vnd.jupyter.widget-view+json": {
       "model_id": "545dad9fb128445fa23fd5c7ec4de1bd",
       "version_major": 2,
       "version_minor": 0
      },
      "text/plain": [
       "Figure(layout=FigureLayout(height='420px'))"
      ]
     },
     "metadata": {},
     "output_type": "display_data"
    }
   ],
   "source": [
    "# Heatmap of percent humidity\n",
    "locations = city_data_df[[\"Lat\", \"Lng\"]]\n",
    "humidity = city_data_df[\"Humidity\"]\n",
    "fig = gmaps.figure(center=(30.0, 31.0), zoom_level=1.5)\n",
    "heat_layer = gmaps.heatmap_layer(locations, weights=temps, dissipating=False, max_intensity=300, point_radius=4)\n",
    "fig.add_layer(heat_layer)\n",
    "# Call the figure to plot the data.\n",
    "fig"
   ]
  },
  {
   "cell_type": "code",
   "execution_count": 57,
   "metadata": {},
   "outputs": [
    {
     "data": {
      "application/vnd.jupyter.widget-view+json": {
       "model_id": "93b9d90605474c1299d953088cc2fce5",
       "version_major": 2,
       "version_minor": 0
      },
      "text/plain": [
       "Figure(layout=FigureLayout(height='420px'))"
      ]
     },
     "metadata": {},
     "output_type": "display_data"
    }
   ],
   "source": [
    "# Heatmap of percent humidity\n",
    "locations = city_data_df[[\"Lat\", \"Lng\"]]\n",
    "humidity = city_data_df[\"Humidity\"]\n",
    "fig = gmaps.figure(center=(30.0, 31.0), zoom_level=1.5)\n",
    "heat_layer = gmaps.heatmap_layer(locations, weights=humidity, dissipating=False, max_intensity=300, point_radius=4)\n",
    "\n",
    "fig.add_layer(heat_layer)\n",
    "# Call the figure to plot the data.\n",
    "fig"
   ]
  },
  {
   "cell_type": "code",
   "execution_count": 58,
   "metadata": {},
   "outputs": [
    {
     "data": {
      "application/vnd.jupyter.widget-view+json": {
       "model_id": "85a0f24f734848378b5c7f23cf4b3eba",
       "version_major": 2,
       "version_minor": 0
      },
      "text/plain": [
       "Figure(layout=FigureLayout(height='420px'))"
      ]
     },
     "metadata": {},
     "output_type": "display_data"
    }
   ],
   "source": [
    "# Heatmap of percent cloudiness\n",
    "locations = city_data_df[[\"Lat\", \"Lng\"]]\n",
    "clouds = city_data_df[\"Cloudiness\"]\n",
    "fig = gmaps.figure(center=(30.0, 31.0), zoom_level=1.5)\n",
    "heat_layer = gmaps.heatmap_layer(locations, weights=clouds, dissipating=False, max_intensity=300, point_radius=4)\n",
    "\n",
    "fig.add_layer(heat_layer)\n",
    "# Call the figure to plot the data.\n",
    "fig"
   ]
  },
  {
   "cell_type": "code",
   "execution_count": 59,
   "metadata": {},
   "outputs": [
    {
     "data": {
      "application/vnd.jupyter.widget-view+json": {
       "model_id": "6b844e16989d4a7e8947292614874b33",
       "version_major": 2,
       "version_minor": 0
      },
      "text/plain": [
       "Figure(layout=FigureLayout(height='420px'))"
      ]
     },
     "metadata": {},
     "output_type": "display_data"
    }
   ],
   "source": [
    "# Heatmap of percent cloudiness\n",
    "locations = city_data_df[[\"Lat\", \"Lng\"]]\n",
    "wind = city_data_df[\"Wind Speed\"]\n",
    "fig = gmaps.figure(center=(30.0, 31.0), zoom_level=1.5)\n",
    "heat_layer = gmaps.heatmap_layer(locations, weights=wind, dissipating=False, max_intensity=300, point_radius=4)\n",
    "\n",
    "fig.add_layer(heat_layer)\n",
    "# Call the figure to plot the data.\n",
    "fig"
   ]
  },
  {
   "cell_type": "code",
   "execution_count": 60,
   "metadata": {},
   "outputs": [
    {
     "name": "stdout",
     "output_type": "stream",
     "text": [
      "What is the minimum temperature you would like for your trip? 75\n",
      "What is the maximum temperature you would like for your trip? 90\n"
     ]
    }
   ],
   "source": [
    "# Ask the customer to add a minimum and maximum temperature value.\n",
    "min_temp = float(input(\"What is the minimum temperature you would like for your trip? \"))\n",
    "max_temp = float(input(\"What is the maximum temperature you would like for your trip? \"))"
   ]
  },
  {
   "cell_type": "code",
   "execution_count": 61,
   "metadata": {},
   "outputs": [
    {
     "data": {
      "text/html": [
       "<div>\n",
       "<style scoped>\n",
       "    .dataframe tbody tr th:only-of-type {\n",
       "        vertical-align: middle;\n",
       "    }\n",
       "\n",
       "    .dataframe tbody tr th {\n",
       "        vertical-align: top;\n",
       "    }\n",
       "\n",
       "    .dataframe thead th {\n",
       "        text-align: right;\n",
       "    }\n",
       "</style>\n",
       "<table border=\"1\" class=\"dataframe\">\n",
       "  <thead>\n",
       "    <tr style=\"text-align: right;\">\n",
       "      <th></th>\n",
       "      <th>City_ID</th>\n",
       "      <th>City</th>\n",
       "      <th>Country</th>\n",
       "      <th>Date</th>\n",
       "      <th>Lat</th>\n",
       "      <th>Lng</th>\n",
       "      <th>Max Temp</th>\n",
       "      <th>Humidity</th>\n",
       "      <th>Cloudiness</th>\n",
       "      <th>Wind Speed</th>\n",
       "    </tr>\n",
       "  </thead>\n",
       "  <tbody>\n",
       "    <tr>\n",
       "      <th>1</th>\n",
       "      <td>1</td>\n",
       "      <td>Kloulklubed</td>\n",
       "      <td>PW</td>\n",
       "      <td>2021-03-23 01:48:04</td>\n",
       "      <td>7.0419</td>\n",
       "      <td>134.2556</td>\n",
       "      <td>84.20</td>\n",
       "      <td>79</td>\n",
       "      <td>75</td>\n",
       "      <td>17.27</td>\n",
       "    </tr>\n",
       "    <tr>\n",
       "      <th>3</th>\n",
       "      <td>3</td>\n",
       "      <td>Ende</td>\n",
       "      <td>ID</td>\n",
       "      <td>2021-03-23 01:48:04</td>\n",
       "      <td>-8.8432</td>\n",
       "      <td>121.6623</td>\n",
       "      <td>83.68</td>\n",
       "      <td>74</td>\n",
       "      <td>100</td>\n",
       "      <td>1.59</td>\n",
       "    </tr>\n",
       "    <tr>\n",
       "      <th>5</th>\n",
       "      <td>5</td>\n",
       "      <td>Padang</td>\n",
       "      <td>ID</td>\n",
       "      <td>2021-03-23 01:48:05</td>\n",
       "      <td>-0.9492</td>\n",
       "      <td>100.3543</td>\n",
       "      <td>78.80</td>\n",
       "      <td>83</td>\n",
       "      <td>40</td>\n",
       "      <td>2.30</td>\n",
       "    </tr>\n",
       "    <tr>\n",
       "      <th>6</th>\n",
       "      <td>6</td>\n",
       "      <td>Cayenne</td>\n",
       "      <td>GF</td>\n",
       "      <td>2021-03-23 01:47:44</td>\n",
       "      <td>4.9333</td>\n",
       "      <td>-52.3333</td>\n",
       "      <td>77.00</td>\n",
       "      <td>94</td>\n",
       "      <td>75</td>\n",
       "      <td>8.05</td>\n",
       "    </tr>\n",
       "    <tr>\n",
       "      <th>8</th>\n",
       "      <td>8</td>\n",
       "      <td>Arraial Do Cabo</td>\n",
       "      <td>BR</td>\n",
       "      <td>2021-03-23 01:48:05</td>\n",
       "      <td>-22.9661</td>\n",
       "      <td>-42.0278</td>\n",
       "      <td>76.32</td>\n",
       "      <td>85</td>\n",
       "      <td>23</td>\n",
       "      <td>4.85</td>\n",
       "    </tr>\n",
       "    <tr>\n",
       "      <th>17</th>\n",
       "      <td>17</td>\n",
       "      <td>Kavieng</td>\n",
       "      <td>PG</td>\n",
       "      <td>2021-03-23 01:48:08</td>\n",
       "      <td>-2.5744</td>\n",
       "      <td>150.7967</td>\n",
       "      <td>81.79</td>\n",
       "      <td>78</td>\n",
       "      <td>100</td>\n",
       "      <td>12.44</td>\n",
       "    </tr>\n",
       "    <tr>\n",
       "      <th>20</th>\n",
       "      <td>20</td>\n",
       "      <td>Vaini</td>\n",
       "      <td>TO</td>\n",
       "      <td>2021-03-23 01:48:08</td>\n",
       "      <td>-21.2000</td>\n",
       "      <td>-175.2000</td>\n",
       "      <td>82.40</td>\n",
       "      <td>78</td>\n",
       "      <td>75</td>\n",
       "      <td>8.05</td>\n",
       "    </tr>\n",
       "    <tr>\n",
       "      <th>22</th>\n",
       "      <td>22</td>\n",
       "      <td>Jashpurnagar</td>\n",
       "      <td>IN</td>\n",
       "      <td>2021-03-23 01:48:09</td>\n",
       "      <td>22.9000</td>\n",
       "      <td>84.1500</td>\n",
       "      <td>79.59</td>\n",
       "      <td>15</td>\n",
       "      <td>6</td>\n",
       "      <td>4.43</td>\n",
       "    </tr>\n",
       "    <tr>\n",
       "      <th>23</th>\n",
       "      <td>23</td>\n",
       "      <td>Rikitea</td>\n",
       "      <td>PF</td>\n",
       "      <td>2021-03-23 01:47:20</td>\n",
       "      <td>-23.1203</td>\n",
       "      <td>-134.9692</td>\n",
       "      <td>79.99</td>\n",
       "      <td>74</td>\n",
       "      <td>7</td>\n",
       "      <td>11.14</td>\n",
       "    </tr>\n",
       "    <tr>\n",
       "      <th>26</th>\n",
       "      <td>26</td>\n",
       "      <td>Omboue</td>\n",
       "      <td>GA</td>\n",
       "      <td>2021-03-23 01:48:10</td>\n",
       "      <td>-1.5746</td>\n",
       "      <td>9.2618</td>\n",
       "      <td>77.23</td>\n",
       "      <td>86</td>\n",
       "      <td>100</td>\n",
       "      <td>1.68</td>\n",
       "    </tr>\n",
       "  </tbody>\n",
       "</table>\n",
       "</div>"
      ],
      "text/plain": [
       "    City_ID             City Country                 Date      Lat       Lng  \\\n",
       "1         1      Kloulklubed      PW  2021-03-23 01:48:04   7.0419  134.2556   \n",
       "3         3             Ende      ID  2021-03-23 01:48:04  -8.8432  121.6623   \n",
       "5         5           Padang      ID  2021-03-23 01:48:05  -0.9492  100.3543   \n",
       "6         6          Cayenne      GF  2021-03-23 01:47:44   4.9333  -52.3333   \n",
       "8         8  Arraial Do Cabo      BR  2021-03-23 01:48:05 -22.9661  -42.0278   \n",
       "17       17          Kavieng      PG  2021-03-23 01:48:08  -2.5744  150.7967   \n",
       "20       20            Vaini      TO  2021-03-23 01:48:08 -21.2000 -175.2000   \n",
       "22       22     Jashpurnagar      IN  2021-03-23 01:48:09  22.9000   84.1500   \n",
       "23       23          Rikitea      PF  2021-03-23 01:47:20 -23.1203 -134.9692   \n",
       "26       26           Omboue      GA  2021-03-23 01:48:10  -1.5746    9.2618   \n",
       "\n",
       "    Max Temp  Humidity  Cloudiness  Wind Speed  \n",
       "1      84.20        79          75       17.27  \n",
       "3      83.68        74         100        1.59  \n",
       "5      78.80        83          40        2.30  \n",
       "6      77.00        94          75        8.05  \n",
       "8      76.32        85          23        4.85  \n",
       "17     81.79        78         100       12.44  \n",
       "20     82.40        78          75        8.05  \n",
       "22     79.59        15           6        4.43  \n",
       "23     79.99        74           7       11.14  \n",
       "26     77.23        86         100        1.68  "
      ]
     },
     "execution_count": 61,
     "metadata": {},
     "output_type": "execute_result"
    }
   ],
   "source": [
    "# Filter the dataset to find the cities that fit the criteria.\n",
    "preferred_cities_df = city_data_df.loc[(city_data_df[\"Max Temp\"] <= max_temp) & \\\n",
    "                                       (city_data_df[\"Max Temp\"] >= min_temp)]\n",
    "preferred_cities_df.head(10)"
   ]
  },
  {
   "cell_type": "code",
   "execution_count": 66,
   "metadata": {},
   "outputs": [
    {
     "data": {
      "text/plain": [
       "City_ID       162\n",
       "City          162\n",
       "Country       162\n",
       "Date          162\n",
       "Lat           162\n",
       "Lng           162\n",
       "Max Temp      162\n",
       "Humidity      162\n",
       "Cloudiness    162\n",
       "Wind Speed    162\n",
       "dtype: int64"
      ]
     },
     "execution_count": 66,
     "metadata": {},
     "output_type": "execute_result"
    }
   ],
   "source": [
    "preferred_cities_df.count()"
   ]
  },
  {
   "cell_type": "code",
   "execution_count": 67,
   "metadata": {},
   "outputs": [
    {
     "data": {
      "text/html": [
       "<div>\n",
       "<style scoped>\n",
       "    .dataframe tbody tr th:only-of-type {\n",
       "        vertical-align: middle;\n",
       "    }\n",
       "\n",
       "    .dataframe tbody tr th {\n",
       "        vertical-align: top;\n",
       "    }\n",
       "\n",
       "    .dataframe thead th {\n",
       "        text-align: right;\n",
       "    }\n",
       "</style>\n",
       "<table border=\"1\" class=\"dataframe\">\n",
       "  <thead>\n",
       "    <tr style=\"text-align: right;\">\n",
       "      <th></th>\n",
       "      <th>City</th>\n",
       "      <th>Country</th>\n",
       "      <th>Max Temp</th>\n",
       "      <th>Lat</th>\n",
       "      <th>Lng</th>\n",
       "      <th>Hotel Name</th>\n",
       "    </tr>\n",
       "  </thead>\n",
       "  <tbody>\n",
       "    <tr>\n",
       "      <th>1</th>\n",
       "      <td>Kloulklubed</td>\n",
       "      <td>PW</td>\n",
       "      <td>84.20</td>\n",
       "      <td>7.0419</td>\n",
       "      <td>134.2556</td>\n",
       "      <td></td>\n",
       "    </tr>\n",
       "    <tr>\n",
       "      <th>3</th>\n",
       "      <td>Ende</td>\n",
       "      <td>ID</td>\n",
       "      <td>83.68</td>\n",
       "      <td>-8.8432</td>\n",
       "      <td>121.6623</td>\n",
       "      <td></td>\n",
       "    </tr>\n",
       "    <tr>\n",
       "      <th>5</th>\n",
       "      <td>Padang</td>\n",
       "      <td>ID</td>\n",
       "      <td>78.80</td>\n",
       "      <td>-0.9492</td>\n",
       "      <td>100.3543</td>\n",
       "      <td></td>\n",
       "    </tr>\n",
       "    <tr>\n",
       "      <th>6</th>\n",
       "      <td>Cayenne</td>\n",
       "      <td>GF</td>\n",
       "      <td>77.00</td>\n",
       "      <td>4.9333</td>\n",
       "      <td>-52.3333</td>\n",
       "      <td></td>\n",
       "    </tr>\n",
       "    <tr>\n",
       "      <th>8</th>\n",
       "      <td>Arraial Do Cabo</td>\n",
       "      <td>BR</td>\n",
       "      <td>76.32</td>\n",
       "      <td>-22.9661</td>\n",
       "      <td>-42.0278</td>\n",
       "      <td></td>\n",
       "    </tr>\n",
       "    <tr>\n",
       "      <th>17</th>\n",
       "      <td>Kavieng</td>\n",
       "      <td>PG</td>\n",
       "      <td>81.79</td>\n",
       "      <td>-2.5744</td>\n",
       "      <td>150.7967</td>\n",
       "      <td></td>\n",
       "    </tr>\n",
       "    <tr>\n",
       "      <th>20</th>\n",
       "      <td>Vaini</td>\n",
       "      <td>TO</td>\n",
       "      <td>82.40</td>\n",
       "      <td>-21.2000</td>\n",
       "      <td>-175.2000</td>\n",
       "      <td></td>\n",
       "    </tr>\n",
       "    <tr>\n",
       "      <th>22</th>\n",
       "      <td>Jashpurnagar</td>\n",
       "      <td>IN</td>\n",
       "      <td>79.59</td>\n",
       "      <td>22.9000</td>\n",
       "      <td>84.1500</td>\n",
       "      <td></td>\n",
       "    </tr>\n",
       "    <tr>\n",
       "      <th>23</th>\n",
       "      <td>Rikitea</td>\n",
       "      <td>PF</td>\n",
       "      <td>79.99</td>\n",
       "      <td>-23.1203</td>\n",
       "      <td>-134.9692</td>\n",
       "      <td></td>\n",
       "    </tr>\n",
       "    <tr>\n",
       "      <th>26</th>\n",
       "      <td>Omboue</td>\n",
       "      <td>GA</td>\n",
       "      <td>77.23</td>\n",
       "      <td>-1.5746</td>\n",
       "      <td>9.2618</td>\n",
       "      <td></td>\n",
       "    </tr>\n",
       "  </tbody>\n",
       "</table>\n",
       "</div>"
      ],
      "text/plain": [
       "               City Country  Max Temp      Lat       Lng Hotel Name\n",
       "1       Kloulklubed      PW     84.20   7.0419  134.2556           \n",
       "3              Ende      ID     83.68  -8.8432  121.6623           \n",
       "5            Padang      ID     78.80  -0.9492  100.3543           \n",
       "6           Cayenne      GF     77.00   4.9333  -52.3333           \n",
       "8   Arraial Do Cabo      BR     76.32 -22.9661  -42.0278           \n",
       "17          Kavieng      PG     81.79  -2.5744  150.7967           \n",
       "20            Vaini      TO     82.40 -21.2000 -175.2000           \n",
       "22     Jashpurnagar      IN     79.59  22.9000   84.1500           \n",
       "23          Rikitea      PF     79.99 -23.1203 -134.9692           \n",
       "26           Omboue      GA     77.23  -1.5746    9.2618           "
      ]
     },
     "execution_count": 67,
     "metadata": {},
     "output_type": "execute_result"
    }
   ],
   "source": [
    "# Create DataFrame called hotel_df to store hotel names along with city, country, max temp, and coordinates.\n",
    "hotel_df = preferred_cities_df[[\"City\", \"Country\", \"Max Temp\", \"Lat\", \"Lng\"]].copy()\n",
    "hotel_df[\"Hotel Name\"] = \"\"\n",
    "hotel_df.head(10)"
   ]
  },
  {
   "cell_type": "code",
   "execution_count": 68,
   "metadata": {},
   "outputs": [],
   "source": [
    "# Set parameters to search for a hotel.\n",
    "params = {\n",
    "    \"radius\": 5000,\n",
    "    \"type\": \"lodging\",\n",
    "    \"key\": g_key\n",
    "}"
   ]
  },
  {
   "cell_type": "code",
   "execution_count": 92,
   "metadata": {},
   "outputs": [],
   "source": [
    "# Dependencies and Setup\n",
    "import requests\n",
    "import gmaps\n",
    "\n",
    "# Import API key\n",
    "from config import g_key"
   ]
  },
  {
   "cell_type": "code",
   "execution_count": 70,
   "metadata": {},
   "outputs": [
    {
     "data": {
      "text/plain": [
       "{'html_attributions': [],\n",
       " 'next_page_token': 'ATtYBwIEUP1b1JV_Dad-H0PjKf2On5V7ZGkUWMukaoKWJy7qjfVJo5_Ri3TzaaRDVVvDGP3PMl8Yq4CedH41UGPp21tJWfHxniBTcXuT_NGI3Ej01W5CYpEb6I15Kr9cAs5fI5mgNCfYQ3720q8HgKjhW04HDwml6ir9Iqmrn5498OfkVJV4Gxsv9iswoELiAN7VnV2KsgiMEiKaEtuTMyRMccgfyJl8vqC56a3GaZZJwzvpAHNLxZb8jQ0WDfuyB4xJ9A16EUM66kteRjk5fy47VB9vnHyBCDXy6R-_C0ZOcr3XHTsXgG6bl6yeGlzf1VrUW-q4Yl4gOBhLpuN8IDdNGAtbQjT9qQMoPIAC6buaR0Sh15utDSLkDwoQvexr9ML3LuUou_nnB2kC80oSYl6DBzPAje5ZCRaa9K8Xa35Sbryl2HB8x9IMXyVi',\n",
       " 'results': [{'business_status': 'OPERATIONAL',\n",
       "   'geometry': {'location': {'lat': 48.8581126, 'lng': 2.3529277},\n",
       "    'viewport': {'northeast': {'lat': 48.8594393802915,\n",
       "      'lng': 2.354352980291503},\n",
       "     'southwest': {'lat': 48.8567414197085, 'lng': 2.351655019708499}}},\n",
       "   'icon': 'https://maps.gstatic.com/mapfiles/place_api/icons/v1/png_71/lodging-71.png',\n",
       "   'name': 'Hôtel Duo',\n",
       "   'opening_hours': {'open_now': True},\n",
       "   'photos': [{'height': 3840,\n",
       "     'html_attributions': ['<a href=\"https://maps.google.com/maps/contrib/107554201425443337224\">Hôtel Duo</a>'],\n",
       "     'photo_reference': 'ATtYBwLmzbHrNaVCD6rZ2PDvGiKua3egBV4-aSqd6KedOlyX9-1yKXz-i6yv_wWFeDHN0fJFXLpEieDA--7rRxah5tJjxu_D5c4QTYupNiBfc17Z8pI1HaM3NZgO9MsFjhAmBjrxCwM_1DjMfWxXVDi8FZnam6N0la-IHFNkQPj_f9-gDpw1',\n",
       "     'width': 5760}],\n",
       "   'place_id': 'ChIJWU9CqB1u5kcR5P1F2SMoJmc',\n",
       "   'plus_code': {'compound_code': 'V953+65 Paris, France',\n",
       "    'global_code': '8FW4V953+65'},\n",
       "   'rating': 4.2,\n",
       "   'reference': 'ChIJWU9CqB1u5kcR5P1F2SMoJmc',\n",
       "   'scope': 'GOOGLE',\n",
       "   'types': ['night_club',\n",
       "    'spa',\n",
       "    'lodging',\n",
       "    'bar',\n",
       "    'gym',\n",
       "    'health',\n",
       "    'point_of_interest',\n",
       "    'establishment'],\n",
       "   'user_ratings_total': 279,\n",
       "   'vicinity': '11 Rue du Temple, Paris'},\n",
       "  {'business_status': 'OPERATIONAL',\n",
       "   'geometry': {'location': {'lat': 48.8582861, 'lng': 2.3464944},\n",
       "    'viewport': {'northeast': {'lat': 48.8595495802915,\n",
       "      'lng': 2.347780980291502},\n",
       "     'southwest': {'lat': 48.8568516197085, 'lng': 2.345083019708498}}},\n",
       "   'icon': 'https://maps.gstatic.com/mapfiles/place_api/icons/v1/png_71/lodging-71.png',\n",
       "   'name': 'Hôtel Britannique - Paris Centre',\n",
       "   'opening_hours': {'open_now': True},\n",
       "   'photos': [{'height': 1426,\n",
       "     'html_attributions': ['<a href=\"https://maps.google.com/maps/contrib/108984000175492464929\">Hôtel Britannique - Paris Centre</a>'],\n",
       "     'photo_reference': 'ATtYBwL0LEdVgYUC4tlVMSl6sGC19Nj8eWfy5vlNSF2GLjO3oWAgP0aK9SIkCNGB_SAqTb1K6QVKEqaPm8LDoPoXqT0TGk9WZfMapp4bzopk2_2ZIRYPalrH-7R6g-z5E_BaCAvjvBp9Mmb7NBQmrw_lNPgUuTs6tpjcZ9jV0Ojk75AgfFA-',\n",
       "     'width': 1476}],\n",
       "   'place_id': 'ChIJ-4Siox9u5kcRm9vM6DcMXyU',\n",
       "   'plus_code': {'compound_code': 'V85W+8H Paris, France',\n",
       "    'global_code': '8FW4V85W+8H'},\n",
       "   'rating': 4.6,\n",
       "   'reference': 'ChIJ-4Siox9u5kcRm9vM6DcMXyU',\n",
       "   'scope': 'GOOGLE',\n",
       "   'types': ['lodging', 'point_of_interest', 'establishment'],\n",
       "   'user_ratings_total': 473,\n",
       "   'vicinity': '20 Avenue Victoria, Paris'},\n",
       "  {'business_status': 'OPERATIONAL',\n",
       "   'geometry': {'location': {'lat': 48.8606655, 'lng': 2.3469293},\n",
       "    'viewport': {'northeast': {'lat': 48.86176813029151,\n",
       "      'lng': 2.348040180291502},\n",
       "     'southwest': {'lat': 48.85907016970851, 'lng': 2.345342219708498}}},\n",
       "   'icon': 'https://maps.gstatic.com/mapfiles/place_api/icons/v1/png_71/lodging-71.png',\n",
       "   'name': 'Citadines Les Halles Paris (Apart Hotel Paris)',\n",
       "   'opening_hours': {'open_now': True},\n",
       "   'photos': [{'height': 496,\n",
       "     'html_attributions': ['<a href=\"https://maps.google.com/maps/contrib/102565262508115704337\">Citadines Les Halles Paris (Apart Hotel Paris)</a>'],\n",
       "     'photo_reference': 'ATtYBwL-r1eXclObNiMsB1X-qBGb1Xq1a_ToiB7hmS1ujx3LNXfUA0cVRsJT612t5BC75J-fja5Hy-CZd_rSou6xTytsmbI5uoD1DLlR9iIUlwlkj1u0TSjkdK7HxiTi8V0vuHYYPsXNrFcyYfoZhPuWLU-Ptz0g3IE7qRMgNezta0TN3pPY',\n",
       "     'width': 745}],\n",
       "   'place_id': 'ChIJQ_QDrxhu5kcRJzNxLLEOSfU',\n",
       "   'plus_code': {'compound_code': 'V86W+7Q Paris, France',\n",
       "    'global_code': '8FW4V86W+7Q'},\n",
       "   'rating': 4.1,\n",
       "   'reference': 'ChIJQ_QDrxhu5kcRJzNxLLEOSfU',\n",
       "   'scope': 'GOOGLE',\n",
       "   'types': ['lodging', 'point_of_interest', 'establishment'],\n",
       "   'user_ratings_total': 816,\n",
       "   'vicinity': '4 Rue des Innocents, Paris'},\n",
       "  {'business_status': 'OPERATIONAL',\n",
       "   'geometry': {'location': {'lat': 48.8607769, 'lng': 2.3463217},\n",
       "    'viewport': {'northeast': {'lat': 48.8620762802915,\n",
       "      'lng': 2.347628580291502},\n",
       "     'southwest': {'lat': 48.8593783197085, 'lng': 2.344930619708498}}},\n",
       "   'icon': 'https://maps.gstatic.com/mapfiles/place_api/icons/v1/png_71/lodging-71.png',\n",
       "   'name': 'Novotel Paris Les Halles',\n",
       "   'opening_hours': {'open_now': True},\n",
       "   'photos': [{'height': 2000,\n",
       "     'html_attributions': ['<a href=\"https://maps.google.com/maps/contrib/111815616573299411056\">Novotel</a>'],\n",
       "     'photo_reference': 'ATtYBwK2HRpBe3G8qo-01JGsqERNoyg8V45ZGYwTRkiP0ow8CF1cgfwBGhnoMY7tzPdnXYJ93Nkd7W3Hxbum-MMjcs-TXms9aorE7wdSJY9-rRkSmskTMsZjUltltbAChhIWTXv2qw_sg3ITcl7l3qfSS5g9g25LAMb_EHrV9SchUoDXCHEl',\n",
       "     'width': 3000}],\n",
       "   'place_id': 'ChIJGW2pNx9u5kcRI3oyL8NG5BQ',\n",
       "   'plus_code': {'compound_code': 'V86W+8G Paris, France',\n",
       "    'global_code': '8FW4V86W+8G'},\n",
       "   'rating': 4.4,\n",
       "   'reference': 'ChIJGW2pNx9u5kcRI3oyL8NG5BQ',\n",
       "   'scope': 'GOOGLE',\n",
       "   'types': ['lodging', 'point_of_interest', 'establishment'],\n",
       "   'user_ratings_total': 2094,\n",
       "   'vicinity': '8 Place Marguerite de Navarre, Paris'},\n",
       "  {'business_status': 'OPERATIONAL',\n",
       "   'geometry': {'location': {'lat': 48.86034799999999, 'lng': 2.344054},\n",
       "    'viewport': {'northeast': {'lat': 48.8616503302915,\n",
       "      'lng': 2.345521080291502},\n",
       "     'southwest': {'lat': 48.8589523697085, 'lng': 2.342823119708498}}},\n",
       "   'icon': 'https://maps.gstatic.com/mapfiles/place_api/icons/v1/png_71/lodging-71.png',\n",
       "   'name': 'Hôtel Ducs de Bourgogne',\n",
       "   'opening_hours': {'open_now': True},\n",
       "   'photos': [{'height': 1390,\n",
       "     'html_attributions': ['<a href=\"https://maps.google.com/maps/contrib/101411638353598558320\">Hôtel Ducs de Bourgogne</a>'],\n",
       "     'photo_reference': 'ATtYBwKmuaVWa5hQJjhRUE_i7Ayi4oHfRznFrMDN_PrkaL0LEg0WSP9DTmSaMDIpNxgSF7XGtiKQMa1nC0HQkbUQpP5MZwpB_BjWZq-DeWSKUJMT2_2AL3dPULOmD0mCf50_8bSC8cZBaGYAOF1CpxuPww7jjNKCu9YPcgDzG473siPLOgHx',\n",
       "     'width': 2048}],\n",
       "   'place_id': 'ChIJifTG5yFu5kcRdnisbwxnAx4',\n",
       "   'plus_code': {'compound_code': 'V86V+4J Paris, France',\n",
       "    'global_code': '8FW4V86V+4J'},\n",
       "   'rating': 4.5,\n",
       "   'reference': 'ChIJifTG5yFu5kcRdnisbwxnAx4',\n",
       "   'scope': 'GOOGLE',\n",
       "   'types': ['lodging', 'point_of_interest', 'establishment'],\n",
       "   'user_ratings_total': 276,\n",
       "   'vicinity': '19 Rue du Pont Neuf, Paris'},\n",
       "  {'business_status': 'OPERATIONAL',\n",
       "   'geometry': {'location': {'lat': 48.8555091, 'lng': 2.3408736},\n",
       "    'viewport': {'northeast': {'lat': 48.8569076302915,\n",
       "      'lng': 2.342319280291502},\n",
       "     'southwest': {'lat': 48.8542096697085, 'lng': 2.339621319708498}}},\n",
       "   'icon': 'https://maps.gstatic.com/mapfiles/place_api/icons/v1/png_71/lodging-71.png',\n",
       "   'name': 'Citadines Saint-Germain-des-Prés Paris',\n",
       "   'opening_hours': {'open_now': True},\n",
       "   'photos': [{'height': 3024,\n",
       "     'html_attributions': ['<a href=\"https://maps.google.com/maps/contrib/107856881779358840274\">David O&#39;Meara</a>'],\n",
       "     'photo_reference': 'ATtYBwJnGxc1mrpjZ-zbh-TGplGjwHLJUxxE9uk_LOa1KnVLmtKL1dSyl8Msz0CknpgORk2mgaJNpmzleGCgKPrRcOXT-FOUGWCOGQmEqyqjAgWhYUJirEHXoVFxwKZVpA4SYCFk8tAzzsSsd74XNTjIF4cy6wcgFAXTpNpQ--GX0EnK3X18',\n",
       "     'width': 4032}],\n",
       "   'place_id': 'ChIJo5pYcN9x5kcRERXdocMgqmE',\n",
       "   'plus_code': {'compound_code': 'V84R+68 Paris, France',\n",
       "    'global_code': '8FW4V84R+68'},\n",
       "   'rating': 4.3,\n",
       "   'reference': 'ChIJo5pYcN9x5kcRERXdocMgqmE',\n",
       "   'scope': 'GOOGLE',\n",
       "   'types': ['lodging', 'point_of_interest', 'establishment'],\n",
       "   'user_ratings_total': 660,\n",
       "   'vicinity': '53 ter Quai des Grands Augustins, Paris'},\n",
       "  {'business_status': 'OPERATIONAL',\n",
       "   'geometry': {'location': {'lat': 48.86634659999999, 'lng': 2.36064},\n",
       "    'viewport': {'northeast': {'lat': 48.86774953029149,\n",
       "      'lng': 2.361898330291501},\n",
       "     'southwest': {'lat': 48.86505156970849, 'lng': 2.359200369708498}}},\n",
       "   'icon': 'https://maps.gstatic.com/mapfiles/place_api/icons/v1/png_71/lodging-71.png',\n",
       "   'name': 'Paris France Hôtel',\n",
       "   'opening_hours': {'open_now': True},\n",
       "   'photos': [{'height': 2673,\n",
       "     'html_attributions': ['<a href=\"https://maps.google.com/maps/contrib/102332962500946068613\">Paris France Hôtel</a>'],\n",
       "     'photo_reference': 'ATtYBwKr8LtWfzDYaGXlIf3kbdsg1b83xyF4d_e3O7N7O0kqWsVbUtRSrXyC_krbZd1ZCcOD7_VBGfOdpvWjK7fJWJmqqDVX3R23mcVm_WvaFoZKUr2OD6fg3wLDITLXUZn3aNux7l1Z2g7BivrtCmY9d5v_iwRsWIoaHCDJ0OlEcVg5wNnQ',\n",
       "     'width': 3463}],\n",
       "   'place_id': 'ChIJhXWLZg9u5kcRDVyqoZYgcmg',\n",
       "   'plus_code': {'compound_code': 'V986+G7 Paris, France',\n",
       "    'global_code': '8FW4V986+G7'},\n",
       "   'rating': 4.3,\n",
       "   'reference': 'ChIJhXWLZg9u5kcRDVyqoZYgcmg',\n",
       "   'scope': 'GOOGLE',\n",
       "   'types': ['lodging', 'point_of_interest', 'establishment'],\n",
       "   'user_ratings_total': 378,\n",
       "   'vicinity': '72 Rue de Turbigo, Paris'},\n",
       "  {'business_status': 'OPERATIONAL',\n",
       "   'geometry': {'location': {'lat': 48.86386539999999, 'lng': 2.3325488},\n",
       "    'viewport': {'northeast': {'lat': 48.8650759802915,\n",
       "      'lng': 2.333775730291502},\n",
       "     'southwest': {'lat': 48.8623780197085, 'lng': 2.331077769708498}}},\n",
       "   'icon': 'https://maps.gstatic.com/mapfiles/place_api/icons/v1/png_71/lodging-71.png',\n",
       "   'name': 'Hotel Regina Louvre',\n",
       "   'opening_hours': {'open_now': True},\n",
       "   'photos': [{'height': 3700,\n",
       "     'html_attributions': ['<a href=\"https://maps.google.com/maps/contrib/109908333790946649027\">Hôtel Regina Louvre</a>'],\n",
       "     'photo_reference': 'ATtYBwJFpsQIcVT0zeV2XWMihVdaS6jJMzXZo4eD0CcHS92yzymxQvMgH8V1n8R-nnezUqtFUgpu0hXxVVSflS5kQQg0YJXsTd0lNCLsRvmHop1Ptzs-rdqWgKsVhKp4-u77O_NwwliWmndvMPrb0jw9Io1Dqft3KGXAqBAgQGeqjx9_EJBY',\n",
       "     'width': 5550}],\n",
       "   'place_id': 'ChIJP_-HCS9u5kcRsj9b1x7Pl8w',\n",
       "   'plus_code': {'compound_code': 'V87M+G2 Paris, France',\n",
       "    'global_code': '8FW4V87M+G2'},\n",
       "   'rating': 4.5,\n",
       "   'reference': 'ChIJP_-HCS9u5kcRsj9b1x7Pl8w',\n",
       "   'scope': 'GOOGLE',\n",
       "   'types': ['lodging',\n",
       "    'bar',\n",
       "    'restaurant',\n",
       "    'food',\n",
       "    'point_of_interest',\n",
       "    'establishment'],\n",
       "   'user_ratings_total': 503,\n",
       "   'vicinity': '2 Place des Pyramides, Paris'},\n",
       "  {'business_status': 'OPERATIONAL',\n",
       "   'geometry': {'location': {'lat': 48.84795229999999, 'lng': 2.370869},\n",
       "    'viewport': {'northeast': {'lat': 48.8492035302915,\n",
       "      'lng': 2.372290080291501},\n",
       "     'southwest': {'lat': 48.8465055697085, 'lng': 2.369592119708498}}},\n",
       "   'icon': 'https://maps.gstatic.com/mapfiles/place_api/icons/v1/png_71/lodging-71.png',\n",
       "   'name': 'ibis Paris Gare de Lyon Ledru Rollin 12ème',\n",
       "   'opening_hours': {'open_now': True},\n",
       "   'photos': [{'height': 3024,\n",
       "     'html_attributions': ['<a href=\"https://maps.google.com/maps/contrib/102166088584622554231\">cherry pyj</a>'],\n",
       "     'photo_reference': 'ATtYBwIILUITV8ZdxwRrnJ9eo9XbVe1bxOsFszoFFhf13nUzgMRGqv2dPTA6ymVq4un4f1M8nYW1YWGjQGNO0Gfw6AzP8Qng9EgpuJPMHZgiEUmUG1f2_1folGAI2MS9oejwpsj1C577GOIoq3eVKAQdScIkeY8Kqy4WMIX8HdDhwRYLf56t',\n",
       "     'width': 4032}],\n",
       "   'place_id': 'ChIJ9RNxcQNy5kcRnZJ4vsuXcow',\n",
       "   'plus_code': {'compound_code': 'R9XC+58 Paris, France',\n",
       "    'global_code': '8FW4R9XC+58'},\n",
       "   'rating': 4,\n",
       "   'reference': 'ChIJ9RNxcQNy5kcRnZJ4vsuXcow',\n",
       "   'scope': 'GOOGLE',\n",
       "   'types': ['lodging', 'point_of_interest', 'establishment'],\n",
       "   'user_ratings_total': 756,\n",
       "   'vicinity': '41/43 Avenue Ledru Rollin, Paris'},\n",
       "  {'business_status': 'OPERATIONAL',\n",
       "   'geometry': {'location': {'lat': 48.8710647, 'lng': 2.34991},\n",
       "    'viewport': {'northeast': {'lat': 48.87241888029151,\n",
       "      'lng': 2.351188530291502},\n",
       "     'southwest': {'lat': 48.86972091970851, 'lng': 2.348490569708498}}},\n",
       "   'icon': 'https://maps.gstatic.com/mapfiles/place_api/icons/v1/png_71/lodging-71.png',\n",
       "   'name': 'Hôtel des Comédies Paris',\n",
       "   'photos': [{'height': 683,\n",
       "     'html_attributions': ['<a href=\"https://maps.google.com/maps/contrib/108479076312462330074\">Hotels World Online</a>'],\n",
       "     'photo_reference': 'ATtYBwLFOZL4_2q39YC8_zRXeVmo0g0nxL30hElOs31apynSGuab1BAvGhnlBodCzeuQDm-heHhCScoSsezix72Cqr19T0OFmxHVtm-PWCudNcoC1KMrNQznYhVCMuZ6PmdzK3QqrQ8miI43xbTifEHNl6zFg8_2Rhgwai7fZBJVcLnvwhm4',\n",
       "     'width': 1024}],\n",
       "   'place_id': 'ChIJn6ginxZu5kcRmAEK0OHm0cI',\n",
       "   'plus_code': {'compound_code': 'V8CX+CX Paris, France',\n",
       "    'global_code': '8FW4V8CX+CX'},\n",
       "   'rating': 4.2,\n",
       "   'reference': 'ChIJn6ginxZu5kcRmAEK0OHm0cI',\n",
       "   'scope': 'GOOGLE',\n",
       "   'types': ['lodging', 'point_of_interest', 'establishment'],\n",
       "   'user_ratings_total': 194,\n",
       "   'vicinity': \"8 Rue d'Hauteville, Paris\"},\n",
       "  {'business_status': 'OPERATIONAL',\n",
       "   'geometry': {'location': {'lat': 48.84754640000001, 'lng': 2.3718722},\n",
       "    'viewport': {'northeast': {'lat': 48.8488750302915,\n",
       "      'lng': 2.373125480291502},\n",
       "     'southwest': {'lat': 48.8461770697085, 'lng': 2.370427519708498}}},\n",
       "   'icon': 'https://maps.gstatic.com/mapfiles/place_api/icons/v1/png_71/lodging-71.png',\n",
       "   'name': 'Hôtel De France Gare de Lyon Bastille',\n",
       "   'photos': [{'height': 4000,\n",
       "     'html_attributions': ['<a href=\"https://maps.google.com/maps/contrib/113105128703711088928\">david szczepaniak</a>'],\n",
       "     'photo_reference': 'ATtYBwJ8GORkYPLiQsgPZ6L0v9D2m5PvZISavwcKh7fDfi3ljqkT2Y56BCEQDZhgS471g-WJIR_IhR4O5pKwRu4XV6HLuhpkaAycP8L866xVJGUGRakBbcxk2BQ5LkQJSQZd1LRt0szCRRxkYsLmsj8-aKpZ3j9YA9LN9l7KAeCG-frTLeyG',\n",
       "     'width': 3000}],\n",
       "   'place_id': 'ChIJz6DBYgNy5kcRhOu1LhDIECM',\n",
       "   'plus_code': {'compound_code': 'R9XC+2P Paris, France',\n",
       "    'global_code': '8FW4R9XC+2P'},\n",
       "   'rating': 3.3,\n",
       "   'reference': 'ChIJz6DBYgNy5kcRhOu1LhDIECM',\n",
       "   'scope': 'GOOGLE',\n",
       "   'types': ['lodging', 'point_of_interest', 'establishment'],\n",
       "   'user_ratings_total': 380,\n",
       "   'vicinity': '12 Rue de Lyon, Paris'},\n",
       "  {'business_status': 'OPERATIONAL',\n",
       "   'geometry': {'location': {'lat': 48.8717386, 'lng': 2.3447052},\n",
       "    'viewport': {'northeast': {'lat': 48.8731394302915,\n",
       "      'lng': 2.346067130291502},\n",
       "     'southwest': {'lat': 48.8704414697085, 'lng': 2.343369169708498}}},\n",
       "   'icon': 'https://maps.gstatic.com/mapfiles/place_api/icons/v1/png_71/lodging-71.png',\n",
       "   'name': 'Hôtel Prélude Opéra Paris',\n",
       "   'opening_hours': {'open_now': True},\n",
       "   'photos': [{'height': 1152,\n",
       "     'html_attributions': ['<a href=\"https://maps.google.com/maps/contrib/103624474621674096768\">carlos MARTINEZ</a>'],\n",
       "     'photo_reference': 'ATtYBwIrEe4s0YuD8v8zMk4w4gfeL9QcqvOX6ihu_bCgPkWDtU2tGIP-iJ7mfzOfMgtvZ3Z78S3e-juns9i3eTZfauZI9eZVdOzp3zpNK-aezRGxYMdNT8bBNE2vLR3nwZt9YQrDDPGf9zKn0JOYFLqRF2GUFG1BVPmXG7BnnK-wJghCK3mX',\n",
       "     'width': 2048}],\n",
       "   'place_id': 'ChIJ8e3Qcj5u5kcR2MIGwNxustk',\n",
       "   'plus_code': {'compound_code': 'V8CV+MV Paris, France',\n",
       "    'global_code': '8FW4V8CV+MV'},\n",
       "   'rating': 4.1,\n",
       "   'reference': 'ChIJ8e3Qcj5u5kcR2MIGwNxustk',\n",
       "   'scope': 'GOOGLE',\n",
       "   'types': ['lodging', 'point_of_interest', 'establishment'],\n",
       "   'user_ratings_total': 326,\n",
       "   'vicinity': '8 Cité Bergère, Paris'},\n",
       "  {'business_status': 'OPERATIONAL',\n",
       "   'geometry': {'location': {'lat': 48.8423491, 'lng': 2.3632246},\n",
       "    'viewport': {'northeast': {'lat': 48.84365908029149,\n",
       "      'lng': 2.364711430291502},\n",
       "     'southwest': {'lat': 48.8409611197085, 'lng': 2.362013469708498}}},\n",
       "   'icon': 'https://maps.gstatic.com/mapfiles/place_api/icons/v1/png_71/lodging-71.png',\n",
       "   'name': 'Hôtel Libertel Austerlitz Jardin des Plantes',\n",
       "   'opening_hours': {'open_now': True},\n",
       "   'photos': [{'height': 4480,\n",
       "     'html_attributions': ['<a href=\"https://maps.google.com/maps/contrib/114802271282641766772\">Hôtel Libertel Austerlitz Jardin des Plantes</a>'],\n",
       "     'photo_reference': 'ATtYBwLayZ1zkfcK11_Ule5R4DXp2D5r_HLRVOQvmcRCo5QayHhHEWbvwUapZSzoUNizHaRW3ZnmoXCB2nSWGX3a__vWbRUNqCFcbZkGH0by4_fHGwYhfLWLQJ8OTFqZbqpUBKtDob94kMhEv-FGBdfWuqLf7fHg1hG4xI26V4KRajx_UZpa',\n",
       "     'width': 6720}],\n",
       "   'place_id': 'ChIJe-udXPZx5kcRKURHNFv5BSw',\n",
       "   'plus_code': {'compound_code': 'R9R7+W7 Paris, France',\n",
       "    'global_code': '8FW4R9R7+W7'},\n",
       "   'rating': 4,\n",
       "   'reference': 'ChIJe-udXPZx5kcRKURHNFv5BSw',\n",
       "   'scope': 'GOOGLE',\n",
       "   'types': ['lodging', 'point_of_interest', 'establishment'],\n",
       "   'user_ratings_total': 433,\n",
       "   'vicinity': \"12 Boulevard de l'Hôpital, Paris\"},\n",
       "  {'business_status': 'OPERATIONAL',\n",
       "   'geometry': {'location': {'lat': 48.864294, 'lng': 2.3307997},\n",
       "    'viewport': {'northeast': {'lat': 48.8655772302915,\n",
       "      'lng': 2.332153880291502},\n",
       "     'southwest': {'lat': 48.8628792697085, 'lng': 2.329455919708498}}},\n",
       "   'icon': 'https://maps.gstatic.com/mapfiles/place_api/icons/v1/png_71/lodging-71.png',\n",
       "   'name': 'Saint James Albany Paris Hôtel Spa',\n",
       "   'opening_hours': {'open_now': True},\n",
       "   'photos': [{'height': 650,\n",
       "     'html_attributions': ['<a href=\"https://maps.google.com/maps/contrib/108570400659068256718\">Saint James Albany Paris Hôtel Spa</a>'],\n",
       "     'photo_reference': 'ATtYBwJ4Ilr0TPkV4-75jzh7XELGzaSnNo4h6IuHj6k4H8n3dtIKyv8qrTliyxLpuUjqHWsslGXE1QrYjMlpgVgOtoqb6hkep9t-FTFfXb66khawXEoM6GfuwajU0A_YW_PuPxRGBfg1y9NjtigLIef1iE6uUCovs1G6UulQC5D8E4JZ0aNl',\n",
       "     'width': 802}],\n",
       "   'place_id': 'ChIJ8znTVS5u5kcREq8TmzOICFs',\n",
       "   'plus_code': {'compound_code': 'V87J+P8 Paris, France',\n",
       "    'global_code': '8FW4V87J+P8'},\n",
       "   'rating': 4,\n",
       "   'reference': 'ChIJ8znTVS5u5kcREq8TmzOICFs',\n",
       "   'scope': 'GOOGLE',\n",
       "   'types': ['lodging',\n",
       "    'bar',\n",
       "    'restaurant',\n",
       "    'food',\n",
       "    'point_of_interest',\n",
       "    'establishment'],\n",
       "   'user_ratings_total': 1072,\n",
       "   'vicinity': '202 Rue de Rivoli, Paris'},\n",
       "  {'business_status': 'OPERATIONAL',\n",
       "   'geometry': {'location': {'lat': 48.87110329999999, 'lng': 2.3389728},\n",
       "    'viewport': {'northeast': {'lat': 48.8724975302915,\n",
       "      'lng': 2.340102880291502},\n",
       "     'southwest': {'lat': 48.8697995697085, 'lng': 2.337404919708498}}},\n",
       "   'icon': 'https://maps.gstatic.com/mapfiles/place_api/icons/v1/png_71/lodging-71.png',\n",
       "   'name': 'Hôtel Icône',\n",
       "   'opening_hours': {'open_now': True},\n",
       "   'photos': [{'height': 1066,\n",
       "     'html_attributions': ['<a href=\"https://maps.google.com/maps/contrib/108137830440312077288\">Hôtel Icône</a>'],\n",
       "     'photo_reference': 'ATtYBwJH-tyT3TuKAYoOLXUPpzcbFJb6-ZzFHYqm7vpsYww1cU-rO32geamEsQCK26_M3FEgCxtg7-LIklH6xDVNJavqPjrCWPEu-Latu0ELL-KeuIuGpqc4NmPTMU_S67y1L57ZMnh9iDIMUt4WB3haQi9sC47EyXO43iOkiZlHbfJ0oKRz',\n",
       "     'width': 1600}],\n",
       "   'place_id': 'ChIJpQvq5Dtu5kcR0COam2f7v_I',\n",
       "   'plus_code': {'compound_code': 'V8CQ+CH Paris, France',\n",
       "    'global_code': '8FW4V8CQ+CH'},\n",
       "   'rating': 3.7,\n",
       "   'reference': 'ChIJpQvq5Dtu5kcR0COam2f7v_I',\n",
       "   'scope': 'GOOGLE',\n",
       "   'types': ['lodging', 'point_of_interest', 'establishment'],\n",
       "   'user_ratings_total': 135,\n",
       "   'vicinity': \"4 Rue d'Amboise, Paris\"},\n",
       "  {'business_status': 'OPERATIONAL',\n",
       "   'geometry': {'location': {'lat': 48.8524547, 'lng': 2.3472064},\n",
       "    'viewport': {'northeast': {'lat': 48.85380223029149,\n",
       "      'lng': 2.348557280291502},\n",
       "     'southwest': {'lat': 48.85110426970849, 'lng': 2.345859319708498}}},\n",
       "   'icon': 'https://maps.gstatic.com/mapfiles/place_api/icons/v1/png_71/lodging-71.png',\n",
       "   'name': 'Hôtel Esmeralda',\n",
       "   'opening_hours': {'open_now': False},\n",
       "   'photos': [{'height': 1960,\n",
       "     'html_attributions': ['<a href=\"https://maps.google.com/maps/contrib/106443224837840180239\">Fraz A. Khan</a>'],\n",
       "     'photo_reference': 'ATtYBwINpXLC3yC6WhU74VzFHDwc_lw2nrbaqSKyGDiXqcOqMXajbuaofQRGDgHplZ4eLnY5mZ47CNTYx0Cp2yAcWQ_cS65pi6eWkBWHo7H81-69Ksv5HJXLu2UVKss6gUqj4gYXlnBakymBFNpFLrvuEVWW24CQaIRmR4ogoLnj98HgLW8W',\n",
       "     'width': 4032}],\n",
       "   'place_id': 'ChIJO_g_H-Fx5kcRmaabUHA3dT4',\n",
       "   'plus_code': {'compound_code': 'V82W+XV Paris, France',\n",
       "    'global_code': '8FW4V82W+XV'},\n",
       "   'rating': 4.1,\n",
       "   'reference': 'ChIJO_g_H-Fx5kcRmaabUHA3dT4',\n",
       "   'scope': 'GOOGLE',\n",
       "   'types': ['lodging', 'point_of_interest', 'establishment'],\n",
       "   'user_ratings_total': 141,\n",
       "   'vicinity': '4 Rue Saint-Julien le Pauvre, Paris'},\n",
       "  {'business_status': 'OPERATIONAL',\n",
       "   'geometry': {'location': {'lat': 48.8530901, 'lng': 2.3447174},\n",
       "    'viewport': {'northeast': {'lat': 48.8544403302915,\n",
       "      'lng': 2.346001280291502},\n",
       "     'southwest': {'lat': 48.8517423697085, 'lng': 2.343303319708498}}},\n",
       "   'icon': 'https://maps.gstatic.com/mapfiles/place_api/icons/v1/png_71/lodging-71.png',\n",
       "   'name': 'Albe Hotel',\n",
       "   'opening_hours': {'open_now': True},\n",
       "   'photos': [{'height': 1152,\n",
       "     'html_attributions': ['<a href=\"https://maps.google.com/maps/contrib/117571951379278191466\">Albe Hotel Saint Michel</a>'],\n",
       "     'photo_reference': 'ATtYBwKfhUemVboD9mMNyP5WsqNumcgsH_Z_6U7m6wPchUlhraWwC4cWUuLuwveSvyrm5JZioFd4ouneSBFFrXGiZb4CYpUKTtkqSSSjkzdXCWEl-6ovkc1VBuXnOFC5Wv0BmuUOykzh70VCD-VnDiRmtqz7_WfVBExTMMEnz1earOdsXKAX',\n",
       "     'width': 1600}],\n",
       "   'place_id': 'ChIJ8R5-hOBx5kcRsCOdfj8GLeY',\n",
       "   'plus_code': {'compound_code': 'V83V+6V Paris, France',\n",
       "    'global_code': '8FW4V83V+6V'},\n",
       "   'rating': 4.4,\n",
       "   'reference': 'ChIJ8R5-hOBx5kcRsCOdfj8GLeY',\n",
       "   'scope': 'GOOGLE',\n",
       "   'types': ['lodging', 'point_of_interest', 'establishment'],\n",
       "   'user_ratings_total': 321,\n",
       "   'vicinity': '1 Rue de la Harpe, Paris'},\n",
       "  {'business_status': 'OPERATIONAL',\n",
       "   'geometry': {'location': {'lat': 48.8499394, 'lng': 2.3462397},\n",
       "    'viewport': {'northeast': {'lat': 48.8513262802915,\n",
       "      'lng': 2.347607430291502},\n",
       "     'southwest': {'lat': 48.8486283197085, 'lng': 2.344909469708498}}},\n",
       "   'icon': 'https://maps.gstatic.com/mapfiles/place_api/icons/v1/png_71/lodging-71.png',\n",
       "   'name': 'Home Latin',\n",
       "   'photos': [{'height': 606,\n",
       "     'html_attributions': ['<a href=\"https://maps.google.com/maps/contrib/105830788751825835396\">Peter Sheehan</a>'],\n",
       "     'photo_reference': 'ATtYBwKD1gU6WMocrHuP3PTHqw3igmIiUMRqYthNc_ojEo11FEekqJxfD4PdNAk7-d7j9sMdm4kq-eO5ZMwAwZ2QYrdFSksFJq5McIiqnzO5Y8mwhk0bY0Dc-qtHnuGSqU1nZw7mq1eqDWYMK-Eo8lIMVaSA-m6bzuwUCXcouzBKY_UDn9Qb',\n",
       "     'width': 1080}],\n",
       "   'place_id': 'ChIJMWNDIudx5kcRupjNdNDYKkw',\n",
       "   'plus_code': {'compound_code': 'R8XW+XF Paris, France',\n",
       "    'global_code': '8FW4R8XW+XF'},\n",
       "   'rating': 3.6,\n",
       "   'reference': 'ChIJMWNDIudx5kcRupjNdNDYKkw',\n",
       "   'scope': 'GOOGLE',\n",
       "   'types': ['lodging', 'point_of_interest', 'establishment'],\n",
       "   'user_ratings_total': 264,\n",
       "   'vicinity': '15-17 Rue du Sommerard, Paris'},\n",
       "  {'business_status': 'CLOSED_TEMPORARILY',\n",
       "   'geometry': {'location': {'lat': 48.85473870000001, 'lng': 2.3395455},\n",
       "    'viewport': {'northeast': {'lat': 48.8561127802915,\n",
       "      'lng': 2.340820530291502},\n",
       "     'southwest': {'lat': 48.8534148197085, 'lng': 2.338122569708498}}},\n",
       "   'icon': 'https://maps.gstatic.com/mapfiles/place_api/icons/v1/png_71/lodging-71.png',\n",
       "   'name': \"Hôtel d'Aubusson\",\n",
       "   'permanently_closed': True,\n",
       "   'photos': [{'height': 3568,\n",
       "     'html_attributions': ['<a href=\"https://maps.google.com/maps/contrib/115702439863948549296\">Hôtel d&#39;Aubusson Paris</a>'],\n",
       "     'photo_reference': 'ATtYBwLoNQEhNsQ54Suc5RWllVBU2--Tj9G81mFopkrHllW2CFStuOyXXBeKnZk4-z8Uw4auuSvFuYK62bSNw28Ira2bVZYyGSLzKrlNMyiQRLtZtpGAyBMz2fLerMZJS6klKzx9H3ttYHqqa3zzQ-0oAW9kI0n8OZn-HLsnigxyd-0datIe',\n",
       "     'width': 5353}],\n",
       "   'place_id': 'ChIJk6ztMN9x5kcREpQ8edWOs7E',\n",
       "   'plus_code': {'compound_code': 'V83Q+VR Paris, France',\n",
       "    'global_code': '8FW4V83Q+VR'},\n",
       "   'rating': 4.7,\n",
       "   'reference': 'ChIJk6ztMN9x5kcREpQ8edWOs7E',\n",
       "   'scope': 'GOOGLE',\n",
       "   'types': ['lodging', 'point_of_interest', 'establishment'],\n",
       "   'user_ratings_total': 275,\n",
       "   'vicinity': '33 Rue Dauphine, Paris'},\n",
       "  {'business_status': 'OPERATIONAL',\n",
       "   'geometry': {'location': {'lat': 48.85184049999999, 'lng': 2.3448082},\n",
       "    'viewport': {'northeast': {'lat': 48.85313113029149,\n",
       "      'lng': 2.346144730291502},\n",
       "     'southwest': {'lat': 48.8504331697085, 'lng': 2.343446769708498}}},\n",
       "   'icon': 'https://maps.gstatic.com/mapfiles/place_api/icons/v1/png_71/lodging-71.png',\n",
       "   'name': 'Hôtel 4 étoiles Parc Saint Séverin Paris 5ème - Esprit de France',\n",
       "   'opening_hours': {'open_now': True},\n",
       "   'photos': [{'height': 2362,\n",
       "     'html_attributions': ['<a href=\"https://maps.google.com/maps/contrib/107542132357877294567\">Hôtel 4 étoiles Parc Saint Séverin Paris 5ème - Esprit de France</a>'],\n",
       "     'photo_reference': 'ATtYBwLWOao4ycPF8HWl799WGXSr0LytEGKcf326-MFvFCMNzjqIKcv6huDT4n_SWM4mBIabw3UBLZlct3UUubzPYMwOH-g37-uRZHUVzecWOuWiNyAo7ngbuTSudKHCU0dQSJy6Kt3HPt3GYZm5WB5jLkcOdcMkMUPnimmZszfYeRt4IVLy',\n",
       "     'width': 3776}],\n",
       "   'place_id': 'ChIJ9--kuuBx5kcRojwQ1yEK2cY',\n",
       "   'plus_code': {'compound_code': 'V82V+PW Paris, France',\n",
       "    'global_code': '8FW4V82V+PW'},\n",
       "   'rating': 4.6,\n",
       "   'reference': 'ChIJ9--kuuBx5kcRojwQ1yEK2cY',\n",
       "   'scope': 'GOOGLE',\n",
       "   'types': ['lodging', 'point_of_interest', 'establishment'],\n",
       "   'user_ratings_total': 139,\n",
       "   'vicinity': '22 Rue de la Parcheminerie, Paris'}],\n",
       " 'status': 'OK'}"
      ]
     },
     "execution_count": 70,
     "metadata": {},
     "output_type": "execute_result"
    }
   ],
   "source": [
    "# Set the parameters to search for a hotel in Paris.\n",
    "params = {\n",
    "    \"radius\": 5000,\n",
    "    \"types\": \"lodging\",\n",
    "    \"key\": g_key,\n",
    "    \"location\": \"48.8566, 2.3522\"}\n",
    "# Use base URL to search for hotels in Paris.\n",
    "base_url = \"https://maps.googleapis.com/maps/api/place/nearbysearch/json\"\n",
    "# Make request and get the JSON data from the search.\n",
    "hotels = requests.get(base_url, params=params).json()\n",
    "\n",
    "hotels"
   ]
  },
  {
   "cell_type": "code",
   "execution_count": 71,
   "metadata": {},
   "outputs": [
    {
     "data": {
      "text/plain": [
       "20"
      ]
     },
     "execution_count": 71,
     "metadata": {},
     "output_type": "execute_result"
    }
   ],
   "source": [
    "len(hotels[\"results\"])"
   ]
  },
  {
   "cell_type": "code",
   "execution_count": 73,
   "metadata": {},
   "outputs": [
    {
     "data": {
      "text/plain": [
       "'Hôtel Duo'"
      ]
     },
     "execution_count": 73,
     "metadata": {},
     "output_type": "execute_result"
    }
   ],
   "source": [
    "hotels[\"results\"][0][\"name\"]"
   ]
  },
  {
   "cell_type": "code",
   "execution_count": 82,
   "metadata": {},
   "outputs": [],
   "source": [
    "# Iterate through the DataFrame.\n",
    "for index, row in hotel_df.iterrows():\n",
    "    # Get the latitude and longitude.\n",
    "    lat = row[\"Lat\"]\n",
    "    lng = row[\"Lng\"]\n",
    "\n",
    "    # Add the latitude and longitude to location key for the params dictionary.\n",
    "    params[\"location\"] = f\"{lat},{lng}\"\n",
    "\n",
    "    # Use the search term: \"lodging\" and our latitude and longitude.\n",
    "    base_url = \"https://maps.googleapis.com/maps/api/place/nearbysearch/json\"\n",
    "    # Make request and get the JSON data from the search.\n",
    "    hotels = requests.get(base_url, params=params).json()\n",
    "    \n",
    "# Grab the first hotel from the results and store the name.\n",
    "try:\n",
    "    hotel_df.loc[index, \"Hotel Name\"] = hotels[\"results\"][0][\"name\"]\n",
    "except (IndexError):\n",
    "    print(\"Hotel not found... skipping.\")"
   ]
  },
  {
   "cell_type": "code",
   "execution_count": 102,
   "metadata": {},
   "outputs": [
    {
     "ename": "NameError",
     "evalue": "name 'hotel_df' is not defined",
     "output_type": "error",
     "traceback": [
      "\u001b[1;31m---------------------------------------------------------------------------\u001b[0m",
      "\u001b[1;31mNameError\u001b[0m                                 Traceback (most recent call last)",
      "\u001b[1;32m<ipython-input-102-fc4d25f1112a>\u001b[0m in \u001b[0;36m<module>\u001b[1;34m\u001b[0m\n\u001b[1;32m----> 1\u001b[1;33m \u001b[0mhotel_df\u001b[0m\u001b[1;33m\u001b[0m\u001b[1;33m\u001b[0m\u001b[0m\n\u001b[0m",
      "\u001b[1;31mNameError\u001b[0m: name 'hotel_df' is not defined"
     ]
    }
   ],
   "source": [
    "hotel_df"
   ]
  },
  {
   "cell_type": "code",
   "execution_count": 88,
   "metadata": {},
   "outputs": [
    {
     "data": {
      "application/vnd.jupyter.widget-view+json": {
       "model_id": "3326a1f0c4f6471b805a976fb8facb96",
       "version_major": 2,
       "version_minor": 0
      },
      "text/plain": [
       "Figure(layout=FigureLayout(height='420px'))"
      ]
     },
     "metadata": {},
     "output_type": "display_data"
    }
   ],
   "source": [
    "# Add a heatmap of temperature for the vacation spots and marker for each city.\n",
    "locations = hotel_df[[\"Lat\", \"Lng\"]]\n",
    "max_temp = hotel_df[\"Max Temp\"]\n",
    "fig = gmaps.figure(center=(30.0, 31.0), zoom_level=1.5)\n",
    "heat_layer = gmaps.heatmap_layer(locations, weights=max_temp,\n",
    "             dissipating=False, max_intensity=300, point_radius=4)\n",
    "marker_layer = gmaps.marker_layer(locations)\n",
    "fig.add_layer(heat_layer)\n",
    "fig.add_layer(marker_layer)\n",
    "# Call the figure to plot the data.\n",
    "fig"
   ]
  },
  {
   "cell_type": "code",
   "execution_count": 94,
   "metadata": {},
   "outputs": [],
   "source": [
    "info_box_template = \"\"\"\n",
    "<dl>\n",
    "<dt>Hotel Name</dt><dd>{Hotel Name}</dd>\n",
    "<dt>City</dt><dd>{City}</dd>\n",
    "<dt>Country</dt><dd>{Country}</dd>\n",
    "<dt>Max Temp</dt><dd>{Max Temp} °F</dd>\n",
    "</dl>\n",
    "\"\"\"\n",
    "# Store the DataFrame Row.\n",
    "hotel_info = [info_box_template.format(**row) for index, row in hotel_df.iterrows()]"
   ]
  },
  {
   "cell_type": "code",
   "execution_count": 95,
   "metadata": {},
   "outputs": [
    {
     "data": {
      "application/vnd.jupyter.widget-view+json": {
       "model_id": "de9fc1c8535149cabfa02c9fbb3f651e",
       "version_major": 2,
       "version_minor": 0
      },
      "text/plain": [
       "Figure(layout=FigureLayout(height='420px'))"
      ]
     },
     "metadata": {},
     "output_type": "display_data"
    }
   ],
   "source": [
    "# Add a heatmap of temperature for the vacation spots and a pop-up marker for each city.\n",
    "locations = hotel_df[[\"Lat\", \"Lng\"]]\n",
    "max_temp = hotel_df[\"Max Temp\"]\n",
    "fig = gmaps.figure(center=(30.0, 31.0), zoom_level=1.5)\n",
    "heat_layer = gmaps.heatmap_layer(locations, weights=max_temp,dissipating=False,\n",
    "             max_intensity=300, point_radius=4)\n",
    "marker_layer = gmaps.marker_layer(locations, info_box_content=hotel_info)\n",
    "fig.add_layer(heat_layer)\n",
    "fig.add_layer(marker_layer)\n",
    "\n",
    "# Call the figure to plot the data.\n",
    "fig"
   ]
  },
  {
   "cell_type": "code",
   "execution_count": null,
   "metadata": {},
   "outputs": [],
   "source": []
  }
 ],
 "metadata": {
  "kernelspec": {
   "display_name": "PythonData",
   "language": "python",
   "name": "pythondata"
  },
  "language_info": {
   "codemirror_mode": {
    "name": "ipython",
    "version": 3
   },
   "file_extension": ".py",
   "mimetype": "text/x-python",
   "name": "python",
   "nbconvert_exporter": "python",
   "pygments_lexer": "ipython3",
   "version": "3.7.9"
  }
 },
 "nbformat": 4,
 "nbformat_minor": 4
}
